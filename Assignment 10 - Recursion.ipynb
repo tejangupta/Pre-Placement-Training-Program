{
 "cells": [
  {
   "cell_type": "markdown",
   "id": "69cbbe13",
   "metadata": {},
   "source": [
    "# Assignment 10"
   ]
  },
  {
   "cell_type": "markdown",
   "id": "68227cb2",
   "metadata": {},
   "source": [
    "***\n",
    "**Question 1**\n",
    "\n",
    "Given an integer `n`, return *`true` if it is a power of three. Otherwise, return `false`*.\n",
    "\n",
    "An integer `n` is a power of three, if there exists an integer `x` such that `n == 3x`.\n",
    "\n",
    "**Example 1:**\n",
    "\n",
    "```\n",
    "Input: n = 27\n",
    "Output: true\n",
    "Explanation: 27 = 33\n",
    "```\n",
    "\n",
    "**Example 2:**\n",
    "\n",
    "```\n",
    "Input: n = 0\n",
    "Output: false\n",
    "Explanation: There is no x where 3x = 0.\n",
    "\n",
    "```\n",
    "\n",
    "**Example 3:**\n",
    "\n",
    "```\n",
    "Input: n = -1\n",
    "Output: false\n",
    "Explanation: There is no x where 3x = (-1).\n",
    "```\n",
    "***"
   ]
  },
  {
   "cell_type": "code",
   "execution_count": 1,
   "id": "90a221a5",
   "metadata": {},
   "outputs": [
    {
     "name": "stdout",
     "output_type": "stream",
     "text": [
      "True\n",
      "False\n",
      "False\n"
     ]
    }
   ],
   "source": [
    "class Solution:\n",
    "    def isPowerOfThree(self, n: int) -> bool:\n",
    "        return (n > 0) and 1162261467 % n == 0\n",
    "    \n",
    "    \n",
    "solution = Solution()\n",
    "\n",
    "print(solution.isPowerOfThree(27))\n",
    "print(solution.isPowerOfThree(0))\n",
    "print(solution.isPowerOfThree(-1))"
   ]
  },
  {
   "cell_type": "markdown",
   "id": "4e0c78cf",
   "metadata": {},
   "source": [
    "***\n",
    "**Question 2**\n",
    "\n",
    "You have a list `arr` of all integers in the range `[1, n]` sorted in a strictly increasing order. Apply the following algorithm on `arr`:\n",
    "\n",
    "- Starting from left to right, remove the first number and every other number afterward until you reach the end of the list.\n",
    "- Repeat the previous step again, but this time from right to left, remove the rightmost number and every other number from the remaining numbers.\n",
    "- Keep repeating the steps again, alternating left to right and right to left, until a single number remains.\n",
    "\n",
    "Given the integer `n`, return *the last number that remains in* `arr`.\n",
    "\n",
    "**Example 1:**\n",
    "\n",
    "```\n",
    "Input: n = 9\n",
    "Output: 6\n",
    "Explanation:\n",
    "arr = [1, 2,3, 4,5, 6,7, 8,9]\n",
    "arr = [2,4, 6,8]\n",
    "arr = [2, 6]\n",
    "arr = [6]\n",
    "\n",
    "```\n",
    "\n",
    "**Example 2:**\n",
    "\n",
    "```\n",
    "Input: n = 1\n",
    "Output: 1\n",
    "```\n",
    "***"
   ]
  },
  {
   "cell_type": "code",
   "execution_count": 2,
   "id": "c94322c0",
   "metadata": {},
   "outputs": [
    {
     "name": "stdout",
     "output_type": "stream",
     "text": [
      "6\n",
      "1\n"
     ]
    }
   ],
   "source": [
    "class Solution:\n",
    "    def lastRemaining(self, n: int) -> int:\n",
    "        def helper(n, isLeft):\n",
    "            if(n==1): \n",
    "                return 1\n",
    "\n",
    "            if(isLeft):\n",
    "                return 2*helper(n//2, 0)\n",
    "            elif(n%2==1):\n",
    "                return 2*helper(n//2, 1)\n",
    "            else:\n",
    "                return 2*helper(n//2, 1) - 1\n",
    "            \n",
    "        return helper(n, 1)\n",
    "    \n",
    "    \n",
    "solution = Solution()\n",
    "\n",
    "print(solution.lastRemaining(9))\n",
    "print(solution.lastRemaining(1))"
   ]
  },
  {
   "cell_type": "markdown",
   "id": "d03f7ec6",
   "metadata": {},
   "source": [
    "***\n",
    "**Question 3**\n",
    "\n",
    "Given a set represented as a string, write a recursive code to print all subsets of it. The subsets can be printed in any order. <br><br>\n",
    "\n",
    "**Example 1:**\n",
    "\n",
    "Input :  set = “abc”\n",
    "\n",
    "Output : { “”, “a”, “b”, “c”, “ab”, “ac”, “bc”, “abc”}\n",
    "\n",
    "**Example 2:**\n",
    "\n",
    "Input : set = “abcd”\n",
    "\n",
    "Output : { “”, “a” ,”ab” ,”abc” ,”abcd”, “abd” ,”ac” ,”acd”, “ad” ,”b”, “bc” ,”bcd” ,”bd” ,”c” ,”cd” ,”d” }\n",
    "***"
   ]
  },
  {
   "cell_type": "code",
   "execution_count": 3,
   "id": "64d8ed2c",
   "metadata": {},
   "outputs": [
    {
     "name": "stdout",
     "output_type": "stream",
     "text": [
      "['', 'c', 'b', 'bc', 'a', 'ac', 'ab', 'abc']\n",
      "['', 'd', 'c', 'cd', 'b', 'bd', 'bc', 'bcd', 'a', 'ad', 'ac', 'acd', 'ab', 'abd', 'abc', 'abcd']\n"
     ]
    }
   ],
   "source": [
    "def powerSet(set_str):\n",
    "    n = len(set_str)\n",
    "    result = []\n",
    "\n",
    "    def generatePowerSet(index, curr):\n",
    "        if index == n:\n",
    "            result.append(curr)\n",
    "            return\n",
    "\n",
    "        generatePowerSet(index + 1, curr)  # Exclude current character\n",
    "        generatePowerSet(index + 1, curr + set_str[index])  # Include current character\n",
    "\n",
    "    generatePowerSet(0, \"\")\n",
    "\n",
    "    return result\n",
    "\n",
    "\n",
    "# Testing the function\n",
    "print(powerSet(\"abc\"))\n",
    "print(powerSet(\"abcd\"))"
   ]
  },
  {
   "cell_type": "markdown",
   "id": "48eb236a",
   "metadata": {},
   "source": [
    "***\n",
    "**Question 4**\n",
    "\n",
    "Given a string calculate length of the string using recursion.\n",
    "\n",
    "**Examples:**\n",
    "\n",
    "```\n",
    "Input : str = \"abcd\"\n",
    "Output :4\n",
    "\n",
    "Input : str = \"GEEKSFORGEEKS\"\n",
    "Output :13\n",
    "```\n",
    "***"
   ]
  },
  {
   "cell_type": "code",
   "execution_count": 5,
   "id": "f4d52325",
   "metadata": {},
   "outputs": [
    {
     "name": "stdout",
     "output_type": "stream",
     "text": [
      "4\n",
      "13\n"
     ]
    }
   ],
   "source": [
    "def string_length(str) :\n",
    "\t\n",
    "\t# if we reach at the\n",
    "\t# end of the string\n",
    "\tif str == '':\n",
    "\t\treturn 0\n",
    "\telse :\n",
    "\t\treturn 1 + string_length(str[1:])\n",
    "\t\n",
    "\n",
    "print(string_length('abcd'))\n",
    "print(string_length('GEEKSFORGEEKS'))"
   ]
  },
  {
   "cell_type": "markdown",
   "id": "8e505b46",
   "metadata": {},
   "source": [
    "***\n",
    "**Question 5**\n",
    "We are given a string S, we need to find count of all contiguous substrings starting and ending with same character.\n",
    "\n",
    "**Examples :**\n",
    "\n",
    "```\n",
    "Input  : S = \"abcab\"\n",
    "Output : 7\n",
    "There are 15 substrings of \"abcab\"\n",
    "a, ab, abc, abca, abcab, b, bc, bca\n",
    "bcab, c, ca, cab, a, ab, b\n",
    "Out of the above substrings, there\n",
    "are 7 substrings : a, abca, b, bcab,\n",
    "c, a and b.\n",
    "\n",
    "Input  : S = \"aba\"\n",
    "Output : 4\n",
    "The substrings are a, b, a and aba\n",
    "```\n",
    "***"
   ]
  },
  {
   "cell_type": "code",
   "execution_count": 6,
   "id": "1d67d1c3",
   "metadata": {},
   "outputs": [
    {
     "name": "stdout",
     "output_type": "stream",
     "text": [
      "7\n",
      "4\n"
     ]
    }
   ],
   "source": [
    "def countSubstringWithEqualEnds(s):\n",
    "\n",
    "\tresult = 0;\n",
    "\tn = len(s);\n",
    "\n",
    "\tfor i in range(n):\n",
    "\t\tfor j in range(i, n):\n",
    "\t\t\tif (s[i] == s[j]):\n",
    "\t\t\t\tresult = result + 1\n",
    "\n",
    "\treturn result\n",
    "\n",
    "\n",
    "print(countSubstringWithEqualEnds('abcab'))\n",
    "print(countSubstringWithEqualEnds('aba'))"
   ]
  },
  {
   "cell_type": "markdown",
   "id": "814a0f0c",
   "metadata": {},
   "source": [
    "***\n",
    "**Question 6**\n",
    "\n",
    "The [tower of Hanoi](https://en.wikipedia.org/wiki/Tower_of_Hanoi) is a famous puzzle where we have three rods and **N** disks. The objective of the puzzle is to move the entire stack to another rod. You are given the number of discs **N**. Initially, these discs are in the rod 1. You need to print all the steps of discs movement so that all the discs reach the 3rd rod. Also, you need to find the total moves.**Note:** The discs are arranged such that the **top disc is numbered 1** and the **bottom-most disc is numbered N**. Also, all the discs have **different sizes** and a bigger disc **cannot** be put on the top of a smaller disc. Refer the provided link to get a better clarity about the puzzle.\n",
    "\n",
    "**Example 1:**\n",
    "\n",
    "```\n",
    "Input:\n",
    "N = 2\n",
    "Output:\n",
    "move disk 1 from rod 1 to rod 2\n",
    "move disk 2 from rod 1 to rod 3\n",
    "move disk 1 from rod 2 to rod 3\n",
    "3\n",
    "Explanation:For N=2 , steps will be\n",
    "as follows in the example and total\n",
    "3 steps will be taken.\n",
    "```\n",
    "\n",
    "**Example 2:**\n",
    "\n",
    "```\n",
    "Input:\n",
    "N = 3\n",
    "Output:\n",
    "move disk 1 from rod 1 to rod 3\n",
    "move disk 2 from rod 1 to rod 2\n",
    "move disk 1 from rod 3 to rod 2\n",
    "move disk 3 from rod 1 to rod 3\n",
    "move disk 1 from rod 2 to rod 1\n",
    "move disk 2 from rod 2 to rod 3\n",
    "move disk 1 from rod 1 to rod 3\n",
    "7\n",
    "Explanation:For N=3 , steps will be\n",
    "as follows in the example and total\n",
    "7 steps will be taken.\n",
    "```\n",
    "***"
   ]
  },
  {
   "cell_type": "code",
   "execution_count": 10,
   "id": "7deb074a",
   "metadata": {},
   "outputs": [
    {
     "name": "stdout",
     "output_type": "stream",
     "text": [
      "move disk 1 from rod 1 to rod 2\n",
      "move disk 2 from rod 1 to rod 3\n",
      "move disk 1 from rod 2 to rod 3\n",
      "3\n",
      "\n",
      "\n",
      "move disk 1 from rod 1 to rod 3\n",
      "move disk 2 from rod 1 to rod 2\n",
      "move disk 1 from rod 3 to rod 2\n",
      "move disk 3 from rod 1 to rod 3\n",
      "move disk 1 from rod 2 to rod 1\n",
      "move disk 2 from rod 2 to rod 3\n",
      "move disk 1 from rod 1 to rod 3\n",
      "7\n"
     ]
    }
   ],
   "source": [
    "def toh(N, from_rod, to_rod, aux_rod):\n",
    "    if N == 1:\n",
    "        print(\"move disk 1 from rod\", from_rod, \"to rod\", to_rod)\n",
    "        return 1\n",
    "\n",
    "    moves = 0\n",
    "    moves += toh(N - 1, from_rod, aux_rod, to_rod)\n",
    "    print(\"move disk\", N, \"from rod\", from_rod, \"to rod\", to_rod)\n",
    "    moves += 1\n",
    "    moves += toh(N - 1, aux_rod, to_rod, from_rod)\n",
    "\n",
    "    return moves\n",
    "\n",
    "\n",
    "N = 2\n",
    "total_moves = toh(N, 1, 3, 2)\n",
    "print(total_moves)\n",
    "\n",
    "print('\\n')\n",
    "\n",
    "N = 3\n",
    "total_moves = toh(N, 1, 3, 2)\n",
    "print(total_moves)"
   ]
  },
  {
   "cell_type": "markdown",
   "id": "cd60d06d",
   "metadata": {},
   "source": [
    "***\n",
    "**Question 7**\n",
    "\n",
    "Given a string **str**, the task is to print all the permutations of **str**. A **permutation** is an arrangement of all or part of a set of objects, with regard to the order of the arrangement. For instance, the words ‘bat’ and ‘tab’ represents two distinct permutation (or arrangements) of a similar three letter word.\n",
    "\n",
    "**Examples:**\n",
    "\n",
    "> Input: str = “cd”\n",
    "> \n",
    "> \n",
    "> **Output:** cd dc\n",
    "> \n",
    "> **Input:** str = “abb”\n",
    "> \n",
    "> **Output:** abb abb bab bba bab bba\n",
    "> \n",
    "***"
   ]
  },
  {
   "cell_type": "code",
   "execution_count": 13,
   "id": "1e0397e2",
   "metadata": {},
   "outputs": [
    {
     "name": "stdout",
     "output_type": "stream",
     "text": [
      "['cd', 'dc']\n",
      "['abb', 'abb', 'bab', 'bba', 'bba', 'bab']\n"
     ]
    }
   ],
   "source": [
    "def permute(s, l, r):\n",
    "    if l == r:\n",
    "        return [''.join(s)]\n",
    "    else:\n",
    "        result = []\n",
    "        for i in range(l, r + 1):\n",
    "            s[l], s[i] = s[i], s[l]  \n",
    "            result += permute(s, l + 1, r) \n",
    "            s[l], s[i] = s[i], s[l]  \n",
    "        return result\n",
    "\n",
    "\n",
    "str1 = \"cd\"\n",
    "n = len(str1)\n",
    "permutations1 = permute(list(str1), 0, n - 1)\n",
    "print(permutations1)\n",
    "\n",
    "str2 = \"abb\"\n",
    "n = len(str2)\n",
    "permutations2 = permute(list(str2), 0, n - 1)\n",
    "print(permutations2)"
   ]
  },
  {
   "cell_type": "markdown",
   "id": "6eda1f07",
   "metadata": {},
   "source": [
    "***\n",
    "**Question 8**\n",
    "\n",
    "Given a string, count total number of consonants in it. A consonant is an English alphabet character that is not vowel (a, e, i, o and u). Examples of constants are b, c, d, f, and g.\n",
    "\n",
    "**Examples :**\n",
    "\n",
    "```\n",
    "Input : abc de\n",
    "Output : 3\n",
    "There are three consonants b, c and d.\n",
    "\n",
    "Input : geeksforgeeks portal\n",
    "Output : 12\n",
    "```\n",
    "***"
   ]
  },
  {
   "cell_type": "code",
   "execution_count": 15,
   "id": "d83f39b2",
   "metadata": {},
   "outputs": [
    {
     "name": "stdout",
     "output_type": "stream",
     "text": [
      "3\n",
      "12\n"
     ]
    }
   ],
   "source": [
    "def isConsonant(ch):\n",
    "\tch = ch.upper()\n",
    "\n",
    "\treturn not (ch == 'A' or ch == 'E' or\n",
    "\t\t\t\tch == 'I' or ch == 'O' or\n",
    "\t\t\t\tch == 'U') and ord(ch) >= 65 and ord(ch) <= 90\n",
    "\n",
    "\n",
    "def totalConsonants(string, n):\n",
    "\t\n",
    "\tif n == 1:\n",
    "\t\treturn isConsonant(string[0])\n",
    "\n",
    "\treturn totalConsonants(string, n - 1) + isConsonant(string[n-1])\n",
    "\n",
    "\n",
    "string = \"abc de\"\n",
    "print(totalConsonants(string, len(string)))\n",
    "\n",
    "string = \"geeksforgeeks portal\"\n",
    "print(totalConsonants(string, len(string)))"
   ]
  },
  {
   "cell_type": "code",
   "execution_count": null,
   "id": "79cd84ae",
   "metadata": {},
   "outputs": [],
   "source": []
  }
 ],
 "metadata": {
  "kernelspec": {
   "display_name": "Python 3 (ipykernel)",
   "language": "python",
   "name": "python3"
  },
  "language_info": {
   "codemirror_mode": {
    "name": "ipython",
    "version": 3
   },
   "file_extension": ".py",
   "mimetype": "text/x-python",
   "name": "python",
   "nbconvert_exporter": "python",
   "pygments_lexer": "ipython3",
   "version": "3.11.0"
  }
 },
 "nbformat": 4,
 "nbformat_minor": 5
}
