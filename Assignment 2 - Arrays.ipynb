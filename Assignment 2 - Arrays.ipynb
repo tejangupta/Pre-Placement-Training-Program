{
 "cells": [
  {
   "cell_type": "markdown",
   "id": "4a02c163",
   "metadata": {},
   "source": [
    "# Assignment 2"
   ]
  },
  {
   "cell_type": "markdown",
   "id": "e1c95ccf",
   "metadata": {},
   "source": [
    "***\n",
    "Question 1<br><br>\n",
    "Given an integer array nums of 2n integers, group these integers into n pairs (a1, b1), (a2, b2),\n",
    "..., (an, bn) such that the sum of min(ai, bi) for all i is maximized. Return the maximized sum. <br><br>\n",
    "Example 1:\n",
    "Input: nums = [1,4,3,2]\n",
    "Output: 4\n",
    "***"
   ]
  },
  {
   "cell_type": "code",
   "execution_count": 1,
   "id": "4303d8e0",
   "metadata": {},
   "outputs": [
    {
     "name": "stdout",
     "output_type": "stream",
     "text": [
      "4\n"
     ]
    }
   ],
   "source": [
    "class Solution:\n",
    "    def arrayPairSum(self, nums):\n",
    "        return sum(sorted(nums)[::2])\n",
    "    \n",
    "    \n",
    "solution = Solution()\n",
    "\n",
    "nums = [1, 4, 3, 2]\n",
    "result = solution.arrayPairSum(nums)\n",
    "print(result)"
   ]
  },
  {
   "cell_type": "markdown",
   "id": "6e52958c",
   "metadata": {},
   "source": [
    "***\n",
    "Question 2 <br><br>\n",
    "Alice has n candies, where the ith candy is of type candyType[i]. Alice noticed that she started\n",
    "to gain weight, so she visited a doctor. <br><br>\n",
    "The doctor advised Alice to only eat n / 2 of the candies she has (n is always even). Alice\n",
    "likes her candies very much, and she wants to eat the maximum number of different types of\n",
    "candies while still following the doctor's advice. <br><br>\n",
    "Given the integer array candyType of length n, return the maximum number of different types\n",
    "of candies she can eat if she only eats n / 2 of them. <br><br>\n",
    "Example 1:\n",
    "Input: candyType = [1,1,2,2,3,3] \n",
    "Output: 3 \n",
    "***"
   ]
  },
  {
   "cell_type": "code",
   "execution_count": 2,
   "id": "9b533db8",
   "metadata": {},
   "outputs": [
    {
     "name": "stdout",
     "output_type": "stream",
     "text": [
      "3\n"
     ]
    }
   ],
   "source": [
    "class Solution:\n",
    "    def distributeCandies(self, candyType):\n",
    "        return int(min(len(candyType) / 2, len(set(candyType))))\n",
    "    \n",
    "    \n",
    "solution = Solution()\n",
    "\n",
    "candyType = [1, 1, 2, 2, 3, 3]\n",
    "result = solution.distributeCandies(candyType)\n",
    "print(result)"
   ]
  },
  {
   "cell_type": "markdown",
   "id": "19d2b817",
   "metadata": {},
   "source": [
    "***\n",
    "Question 3 <br><br>\n",
    "We define a harmonious array as an array where the difference between its maximum value\n",
    "and its minimum value is exactly 1. <br><br>\n",
    "Given an integer array nums, return the length of its longest harmonious subsequence\n",
    "among all its possible subsequences. <br><br>\n",
    "A subsequence of an array is a sequence that can be derived from the array by deleting some\n",
    "or no elements without changing the order of the remaining elements. <br><br>\n",
    "Example 1:\n",
    "Input: nums = [1,3,2,2,5,2,3,7]\n",
    "Output: 5\n",
    "***"
   ]
  },
  {
   "cell_type": "code",
   "execution_count": 3,
   "id": "8111a5cb",
   "metadata": {},
   "outputs": [
    {
     "name": "stdout",
     "output_type": "stream",
     "text": [
      "5\n"
     ]
    }
   ],
   "source": [
    "class Solution:\n",
    "    def findLHS(self, nums):\n",
    "        count = {}\n",
    "        for x in nums:\n",
    "            count[x] = count.get(x, 0) + 1\n",
    "        \n",
    "        ans = 0\n",
    "        for x in count:\n",
    "            if x+1 in count:\n",
    "                ans = max(ans, count[x] + count[x+1])\n",
    "\n",
    "        return ans\n",
    "\n",
    "    \n",
    "solution = Solution()\n",
    "\n",
    "nums = [1, 3, 2, 2, 5, 2, 3, 7]\n",
    "result = solution.findLHS(nums)\n",
    "print(result)"
   ]
  },
  {
   "cell_type": "markdown",
   "id": "1ffe6f8c",
   "metadata": {},
   "source": [
    "***\n",
    "Question 4 <br><br>\n",
    "You have a long flowerbed in which some of the plots are planted, and some are not.<br><br>\n",
    "However, flowers cannot be planted in adjacent plots. <br><br>\n",
    "Given an integer array flowerbed containing 0's and 1's, where 0 means empty and 1 means\n",
    "not empty, and an integer n, return true if n new flowers can be planted in the flowerbed\n",
    "without violating the no-adjacent-flowers rule and false otherwise. <br><br>\n",
    "Example 1:\n",
    "Input: flowerbed = [1,0,0,0,1], n = 1\n",
    "Output: true\n",
    "***"
   ]
  },
  {
   "cell_type": "code",
   "execution_count": 4,
   "id": "72f9b6ac",
   "metadata": {},
   "outputs": [
    {
     "name": "stdout",
     "output_type": "stream",
     "text": [
      "True\n"
     ]
    }
   ],
   "source": [
    "class Solution:\n",
    "    def canPlaceFlowers(self, flowerbed, n):\n",
    "        zeros, ans = 1, 0 \n",
    "        \n",
    "        for f in flowerbed:\n",
    "            if f == 0: \n",
    "                zeros += 1\n",
    "            else:\n",
    "                ans += (zeros - 1) // 2\n",
    "                zeros = 0\n",
    "                \n",
    "        return ans + zeros // 2 >= n  \n",
    "    \n",
    "    \n",
    "solution = Solution()\n",
    "\n",
    "flowerbed = [1, 0, 0, 0, 1]\n",
    "n = 1\n",
    "print(solution.canPlaceFlowers(flowerbed, n))"
   ]
  },
  {
   "cell_type": "markdown",
   "id": "22617cf2",
   "metadata": {},
   "source": [
    "***\n",
    "Question 5 <br><br>\n",
    "Given an integer array nums, find three numbers whose product is maximum and return the\n",
    "maximum product. <br><br>\n",
    "Example 1:\n",
    "Input: nums = [1,2,3]\n",
    "Output: 6\n",
    "***"
   ]
  },
  {
   "cell_type": "code",
   "execution_count": 5,
   "id": "3877e18c",
   "metadata": {},
   "outputs": [
    {
     "name": "stdout",
     "output_type": "stream",
     "text": [
      "6\n"
     ]
    }
   ],
   "source": [
    "import heapq\n",
    "\n",
    "\n",
    "class Solution:\n",
    "    def maximumProduct(self, nums):\n",
    "        a, b = heapq.nlargest(3, nums), heapq.nsmallest(2, nums)\n",
    "        return max(a[0] * a[1] * a[2], b[0] * b[1] * a[0])\n",
    "    \n",
    "    \n",
    "solution = Solution()\n",
    "\n",
    "nums = [1, 2, 3]\n",
    "result = solution.maximumProduct(nums)\n",
    "print(result)"
   ]
  },
  {
   "cell_type": "markdown",
   "id": "9e533442",
   "metadata": {},
   "source": [
    "***\n",
    "Question 6 <br><br>\n",
    "Given an array of integers nums which is sorted in ascending order, and an integer target,\n",
    "write a function to search target in nums. If target exists, then return its index. Otherwise,\n",
    "return -1. <br><br>\n",
    "You must write an algorithm with O(log n) runtime complexity. <br><br>\n",
    "Input: nums = [-1,0,3,5,9,12], target = 9\n",
    "Output: 4\n",
    "***"
   ]
  },
  {
   "cell_type": "code",
   "execution_count": 6,
   "id": "26369f3a",
   "metadata": {},
   "outputs": [
    {
     "name": "stdout",
     "output_type": "stream",
     "text": [
      "4\n"
     ]
    }
   ],
   "source": [
    "class Solution:\n",
    "    def search(self, nums, target):\n",
    "        idx = 0\n",
    "        step = len(nums)\n",
    "\n",
    "        while step >= 1:\n",
    "            while step + idx < len(nums) and nums[step + idx] <= target:\n",
    "                idx += step\n",
    "            step //= 2\n",
    "\n",
    "        return idx if nums[idx] == target else -1\n",
    "    \n",
    "    \n",
    "solution = Solution()\n",
    "\n",
    "nums = [-1, 0, 3, 5, 9, 12]\n",
    "target = 9\n",
    "result = solution.search(nums, target)\n",
    "print(result)"
   ]
  },
  {
   "cell_type": "markdown",
   "id": "d648af54",
   "metadata": {},
   "source": [
    "***\n",
    "Question 7 <br><br>\n",
    "An array is monotonic if it is either monotone increasing or monotone decreasing. <br><br>\n",
    "An array nums is monotone increasing if for all i <= j, nums[i] <= nums[j]. An array nums is\n",
    "monotone decreasing if for all i <= j, nums[i] >= nums[j]. <br><br>\n",
    "Given an integer array nums, return true if the given array is monotonic, or false otherwise. <br><br>\n",
    "Example 1:\n",
    "Input: nums = [1,2,2,3]\n",
    "Output: true\n",
    "***"
   ]
  },
  {
   "cell_type": "code",
   "execution_count": 7,
   "id": "86c6ea81",
   "metadata": {},
   "outputs": [
    {
     "name": "stdout",
     "output_type": "stream",
     "text": [
      "True\n"
     ]
    }
   ],
   "source": [
    "class Solution:\n",
    "    def isMonotonic(self, nums):\n",
    "        is_non_decreasing = all(nums[i] <= nums[i + 1] for i in range(len(nums) - 1))\n",
    "        is_non_increasing = all(nums[i] >= nums[i + 1] for i in range(len(nums) - 1))\n",
    "\n",
    "        is_monotonic = is_non_decreasing or is_non_increasing\n",
    "\n",
    "        return is_monotonic\n",
    "\n",
    "    \n",
    "solution = Solution()\n",
    "\n",
    "nums = [1, 2, 2, 3]\n",
    "result = solution.isMonotonic(nums)\n",
    "print(result)"
   ]
  },
  {
   "cell_type": "markdown",
   "id": "a6fb7cd5",
   "metadata": {},
   "source": [
    "***\n",
    "Question 8 <br><br>\n",
    "You are given an integer array nums and an integer k. <br><br>\n",
    "In one operation, you can choose any index i where 0 <= i < nums.length and change nums[i]\n",
    "to nums[i] + x where x is an integer from the range [-k, k]. You can apply this operation at\n",
    "most once for each index i. <br><br>\n",
    "The score of nums is the difference between the maximum and minimum elements in nums. <br><br>\n",
    "Return the minimum score of nums after applying the mentioned operation at most once for\n",
    "each index in it. <br><br>\n",
    "Example 1:\n",
    "Input: nums = [1], k = 0\n",
    "Output: 0\n",
    "***"
   ]
  },
  {
   "cell_type": "code",
   "execution_count": 8,
   "id": "af95ff34",
   "metadata": {},
   "outputs": [
    {
     "name": "stdout",
     "output_type": "stream",
     "text": [
      "0\n"
     ]
    }
   ],
   "source": [
    "class Solution:\n",
    "    def smallestRangeI(self, nums, k):\n",
    "        return max(0, max(nums) - min(nums) - 2 * k)\n",
    "    \n",
    "    \n",
    "solution = Solution()\n",
    "\n",
    "nums = [1]\n",
    "k = 0\n",
    "print(solution.smallestRangeI(nums, k))"
   ]
  },
  {
   "cell_type": "code",
   "execution_count": null,
   "id": "dc8197a5",
   "metadata": {},
   "outputs": [],
   "source": []
  }
 ],
 "metadata": {
  "kernelspec": {
   "display_name": "Python 3 (ipykernel)",
   "language": "python",
   "name": "python3"
  },
  "language_info": {
   "codemirror_mode": {
    "name": "ipython",
    "version": 3
   },
   "file_extension": ".py",
   "mimetype": "text/x-python",
   "name": "python",
   "nbconvert_exporter": "python",
   "pygments_lexer": "ipython3",
   "version": "3.11.0"
  }
 },
 "nbformat": 4,
 "nbformat_minor": 5
}
