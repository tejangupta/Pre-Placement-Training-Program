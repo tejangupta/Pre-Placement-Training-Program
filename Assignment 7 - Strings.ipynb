{
 "cells": [
  {
   "cell_type": "markdown",
   "id": "af31a7fd",
   "metadata": {},
   "source": [
    "# Assignment 7"
   ]
  },
  {
   "cell_type": "markdown",
   "id": "c47187dc",
   "metadata": {},
   "source": [
    "***\n",
    "**Question 1**\n",
    "\n",
    "Given two strings s and t, *determine if they are isomorphic*.\n",
    "\n",
    "Two strings s and t are isomorphic if the characters in s can be replaced to get t.\n",
    "\n",
    "All occurrences of a character must be replaced with another character while preserving the order of characters. No two characters may map to the same character, but a character may map to itself. <br><br>\n",
    "\n",
    "**Example 1:** <br>\n",
    "**Input:** s = \"egg\", t = \"add\" <br>\n",
    "**Output:** true\n",
    "***"
   ]
  },
  {
   "cell_type": "code",
   "execution_count": 2,
   "id": "e21ca2cb",
   "metadata": {},
   "outputs": [
    {
     "name": "stdout",
     "output_type": "stream",
     "text": [
      "True\n"
     ]
    }
   ],
   "source": [
    "class Solution:\n",
    "    def isIsomorphic(self, s: str, t: str) -> bool:\n",
    "        mapping = {}\n",
    "        char_set = set()\n",
    "        n = len(s) - 1\n",
    "\n",
    "        while n >= 0:\n",
    "            if s[n] in mapping and mapping[s[n]] != t[n]:\n",
    "                return False\n",
    "            if s[n] not in mapping and t[n] in char_set:\n",
    "                return False\n",
    "            char_set.add(t[n])\n",
    "            mapping[s[n]] = t[n]\n",
    "            n -= 1\n",
    "\n",
    "        return True\n",
    "    \n",
    "    \n",
    "solution = Solution()\n",
    "\n",
    "s, t = 'egg', 'add'\n",
    "print(solution.isIsomorphic(s, t))"
   ]
  },
  {
   "cell_type": "markdown",
   "id": "2ba5c441",
   "metadata": {},
   "source": [
    "***\n",
    "**Question 2**\n",
    "\n",
    "Given a string num which represents an integer, return true *if* num *is a **strobogrammatic number***.\n",
    "\n",
    "A **strobogrammatic number** is a number that looks the same when rotated 180 degrees (looked at upside down). <br><br>\n",
    "\n",
    "**Example 1:** <br>\n",
    "**Input:** num = \"69\" <br>\n",
    "**Output:** True\n",
    "***"
   ]
  },
  {
   "cell_type": "code",
   "execution_count": 4,
   "id": "8c0abc34",
   "metadata": {},
   "outputs": [
    {
     "name": "stdout",
     "output_type": "stream",
     "text": [
      "True\n"
     ]
    }
   ],
   "source": [
    "class Solution(object):\n",
    "  def isStrobogrammatic(self, num):\n",
    "    start, end, legal = 0, len(num) - 1, \"01689\"\n",
    "    \n",
    "    while start <= end:\n",
    "      if \"\".join(sorted(num[start] + num[end])) not in [\"00\", \"11\", \"88\", \"69\"]:\n",
    "        return False\n",
    "    \n",
    "      start += 1\n",
    "      end -= 1\n",
    "    \n",
    "    return True\n",
    "\n",
    "\n",
    "solution = Solution()\n",
    "\n",
    "num = '69'\n",
    "print(solution.isStrobogrammatic(num))"
   ]
  },
  {
   "cell_type": "markdown",
   "id": "02d7435e",
   "metadata": {},
   "source": [
    "***\n",
    "**Question 3**\n",
    "\n",
    "Given two non-negative integers, num1 and num2 represented as string, return *the sum of* num1 *and* num2 *as a string*.\n",
    "\n",
    "You must solve the problem without using any built-in library for handling large integers (such as BigInteger). You must also not convert the inputs to integers directly. <br><br>\n",
    "\n",
    "**Example 1:** <br>\n",
    "**Input:** num1 = \"11\", num2 = \"123\" <br>\n",
    "**Output:** \"134\"\n",
    "***"
   ]
  },
  {
   "cell_type": "code",
   "execution_count": 5,
   "id": "93b84223",
   "metadata": {},
   "outputs": [
    {
     "name": "stdout",
     "output_type": "stream",
     "text": [
      "134\n"
     ]
    }
   ],
   "source": [
    "class Solution:\n",
    "    def addStrings(self, num1: str, num2: str) -> str:\n",
    "        num1, num2 = list(num1), list(num2)\n",
    "        carry, res = 0, []\n",
    "\n",
    "        while len(num2) > 0 or len(num1) > 0:\n",
    "            n1 = ord(num1.pop())-ord('0') if len(num1) > 0 else 0\n",
    "            n2 = ord(num2.pop())-ord('0') if len(num2) > 0 else 0\n",
    "            \n",
    "            temp = n1 + n2 + carry \n",
    "            res.append(temp % 10)\n",
    "            carry = temp // 10\n",
    "\n",
    "        if carry: \n",
    "            res.append(carry)\n",
    "            \n",
    "        return ''.join([str(i) for i in res])[::-1]\n",
    "    \n",
    "    \n",
    "solution = Solution()\n",
    "\n",
    "num1, num2 = '11', '123'\n",
    "print(solution.addStrings(num1, num2))"
   ]
  },
  {
   "cell_type": "markdown",
   "id": "12c574f6",
   "metadata": {},
   "source": [
    "***\n",
    "**Question 4**\n",
    "\n",
    "Given a string s, reverse the order of characters in each word within a sentence while still preserving whitespace and initial word order. <br><br>\n",
    "\n",
    "**Example 1:** <br>\n",
    "**Input:** s = \"Let's take LeetCode contest\" <br>\n",
    "**Output:** \"s'teL ekat edoCteeL tsetnoc\"\n",
    "***"
   ]
  },
  {
   "cell_type": "code",
   "execution_count": 6,
   "id": "fb084f67",
   "metadata": {},
   "outputs": [
    {
     "name": "stdout",
     "output_type": "stream",
     "text": [
      "s'teL ekat edoCteeL tsetnoc\n"
     ]
    }
   ],
   "source": [
    "class Solution:\n",
    "    def reverseWords(self, s: str) -> str:\n",
    "        return ' '.join(s.split()[::-1])[::-1]\n",
    "    \n",
    "    \n",
    "solution = Solution()\n",
    "\n",
    "s = \"Let's take LeetCode contest\"\n",
    "print(solution.reverseWords(s))"
   ]
  },
  {
   "cell_type": "markdown",
   "id": "8ec53920",
   "metadata": {},
   "source": [
    "***\n",
    "**Question 5**\n",
    "\n",
    "Given a string s and an integer k, reverse the first k characters for every 2k characters counting from the start of the string.\n",
    "\n",
    "If there are fewer than k characters left, reverse all of them. If there are less than 2k but greater than or equal to k characters, then reverse the first k characters and leave the other as original. <br><br>\n",
    "\n",
    "**Example 1:** <br>\n",
    "**Input:** s = \"abcdefg\", k = 2 <br>\n",
    "**Output:** \"bacdfeg\"\n",
    "***"
   ]
  },
  {
   "cell_type": "code",
   "execution_count": 7,
   "id": "40268012",
   "metadata": {},
   "outputs": [
    {
     "name": "stdout",
     "output_type": "stream",
     "text": [
      "bacdfeg\n"
     ]
    }
   ],
   "source": [
    "class Solution:\n",
    "    def reverseStr(self, s: str, k: int) -> str:\n",
    "        s = list(s)\n",
    "\n",
    "        for i in range(0, len(s), 2*k):\n",
    "            s[i:i+k] = reversed(s[i:i+k])\n",
    "\n",
    "        return \"\".join(s)\n",
    "    \n",
    "    \n",
    "solution = Solution()\n",
    "\n",
    "s = 'abcdefg'\n",
    "k = 2\n",
    "print(solution.reverseStr(s, k))"
   ]
  },
  {
   "cell_type": "markdown",
   "id": "c62996a9",
   "metadata": {},
   "source": [
    "***\n",
    "**Question 6** <br>\n",
    "Given two strings s and goal, return true *if and only if* s *can become* goal *after some number of **shifts** on* s.\n",
    "\n",
    "A **shift** on s consists of moving the leftmost character of s to the rightmost position.\n",
    "\n",
    "- For example, if s = \"abcde\", then it will be \"bcdea\" after one shift.\n",
    "\n",
    "**Example 1:**\n",
    "\n",
    "**Input:** s = \"abcde\", goal = \"cdeab\"\n",
    "\n",
    "**Output:**\n",
    "\n",
    "true\n",
    "***"
   ]
  },
  {
   "cell_type": "code",
   "execution_count": 10,
   "id": "bd674775",
   "metadata": {},
   "outputs": [
    {
     "name": "stdout",
     "output_type": "stream",
     "text": [
      "True\n"
     ]
    }
   ],
   "source": [
    "class Solution:\n",
    "    def rotateString(self, s: str, goal: str) -> bool:\n",
    "        return len(s) == len(goal) and goal in s + s\n",
    "    \n",
    "    \n",
    "solution = Solution()\n",
    "\n",
    "s, goal = 'abcde', 'cdeab'\n",
    "print(solution.rotateString(s, goal))"
   ]
  },
  {
   "cell_type": "markdown",
   "id": "6f00b673",
   "metadata": {},
   "source": [
    "***\n",
    "**Question 7**\n",
    "\n",
    "Given two strings s and t, return true *if they are equal when both are typed into empty text editors*. '#' means a backspace character.\n",
    "\n",
    "Note that after backspacing an empty text, the text will continue empty. <br><br>\n",
    "\n",
    "**Example 1:** <br>\n",
    "**Input:** s = \"ab#c\", t = \"ad#c\" <br>\n",
    "**Output:** true <br>\n",
    "***"
   ]
  },
  {
   "cell_type": "code",
   "execution_count": 13,
   "id": "429742e8",
   "metadata": {},
   "outputs": [
    {
     "name": "stdout",
     "output_type": "stream",
     "text": [
      "True\n"
     ]
    }
   ],
   "source": [
    "from functools import reduce\n",
    "\n",
    "class Solution:\n",
    "    def backspaceCompare(self, s: str, t: str) -> bool:\n",
    "        def back(res, c):\n",
    "            if c != '#': \n",
    "                res.append(c)\n",
    "\n",
    "            elif res: \n",
    "                res.pop()\n",
    "            return res\n",
    "\n",
    "        return reduce(back, s, []) == reduce(back, t, [])\n",
    "    \n",
    "    \n",
    "solution = Solution()\n",
    "\n",
    "s, t = 'ab#c', 'ad#c'\n",
    "print(solution.backspaceCompare(s, t))"
   ]
  },
  {
   "cell_type": "markdown",
   "id": "858471b7",
   "metadata": {},
   "source": [
    "***\n",
    "**Question 8**\n",
    "\n",
    "You are given an array coordinates, coordinates[i] = [x, y], where [x, y] represents the coordinate of a point. Check if these points make a straight line in the XY plane. <br><br>\n",
    "\n",
    "**Example 1:** <br>\n",
    "**Input:** coordinates = [[1,2],[2,3],[3,4],[4,5],[5,6],[6,7]] <br>\n",
    "**Output:** true\n",
    "***"
   ]
  },
  {
   "cell_type": "code",
   "execution_count": 15,
   "id": "79b99278",
   "metadata": {},
   "outputs": [
    {
     "name": "stdout",
     "output_type": "stream",
     "text": [
      "True\n"
     ]
    }
   ],
   "source": [
    "from typing import List\n",
    "\n",
    "class Solution:\n",
    "    def checkStraightLine(self, coordinates: List[List[int]]) -> bool:\n",
    "        (x0, y0), (x1, y1) = coordinates[: 2]\n",
    "        for x, y in coordinates:\n",
    "            if (x1 - x0) * (y - y1) != (x - x1) * (y1 - y0):\n",
    "                return False\n",
    "        return True\n",
    "    \n",
    "    \n",
    "solution = Solution()\n",
    "\n",
    "coordinates = [[1,2],[2,3],[3,4],[4,5],[5,6],[6,7]]\n",
    "print(solution.checkStraightLine(coordinates))"
   ]
  },
  {
   "cell_type": "code",
   "execution_count": null,
   "id": "9fdeffd2",
   "metadata": {},
   "outputs": [],
   "source": []
  }
 ],
 "metadata": {
  "kernelspec": {
   "display_name": "Python 3 (ipykernel)",
   "language": "python",
   "name": "python3"
  },
  "language_info": {
   "codemirror_mode": {
    "name": "ipython",
    "version": 3
   },
   "file_extension": ".py",
   "mimetype": "text/x-python",
   "name": "python",
   "nbconvert_exporter": "python",
   "pygments_lexer": "ipython3",
   "version": "3.11.0"
  }
 },
 "nbformat": 4,
 "nbformat_minor": 5
}
