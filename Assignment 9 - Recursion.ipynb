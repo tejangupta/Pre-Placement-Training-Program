{
 "cells": [
  {
   "cell_type": "markdown",
   "id": "264b6f21",
   "metadata": {},
   "source": [
    "***\n",
    "**Question 1**\n",
    "\n",
    "Given an integer `n`, return *`true` if it is a power of two. Otherwise, return `false`*.\n",
    "\n",
    "An integer `n` is a power of two, if there exists an integer `x` such that `n == 2x`. <br><br>\n",
    "\n",
    "**Example 1:**\n",
    "Input: n = 1 \n",
    "\n",
    "Output: true\n",
    "\n",
    "**Example 2:**\n",
    "Input: n = 16 \n",
    "\n",
    "Output: true\n",
    "\n",
    "**Example 3:**\n",
    "Input: n = 3 \n",
    "\n",
    "Output: false\n",
    "***"
   ]
  },
  {
   "cell_type": "code",
   "execution_count": 2,
   "id": "572817aa",
   "metadata": {},
   "outputs": [
    {
     "name": "stdout",
     "output_type": "stream",
     "text": [
      "True\n",
      "True\n",
      "False\n"
     ]
    }
   ],
   "source": [
    "class Solution:\n",
    "    def isPowerOfTwo(self, n: int) -> bool:\n",
    "        return n and not (n & n - 1)\n",
    "    \n",
    "    \n",
    "solution = Solution()    \n",
    "\n",
    "print(solution.isPowerOfTwo(1))\n",
    "print(solution.isPowerOfTwo(16))\n",
    "print(solution.isPowerOfTwo(3))"
   ]
  },
  {
   "cell_type": "markdown",
   "id": "11dde9cc",
   "metadata": {},
   "source": [
    "***\n",
    "**Question 2**\n",
    "\n",
    "Given a number n, find the sum of the first natural numbers. <br><br>\n",
    "\n",
    "**Example 1:** <br>\n",
    "Input: n = 3 <br>\n",
    "Output: 6 <br><br>\n",
    "\n",
    "**Example 2:** <br>\n",
    "Input  : 5 <br>\n",
    "Output : 15 \n",
    "***"
   ]
  },
  {
   "cell_type": "code",
   "execution_count": 4,
   "id": "9c58867f",
   "metadata": {},
   "outputs": [
    {
     "name": "stdout",
     "output_type": "stream",
     "text": [
      "6\n",
      "15\n"
     ]
    }
   ],
   "source": [
    "class Solution:\n",
    "    def sumOfNaturalNumbers(self, n: int) -> int:\n",
    "        return n * (n + 1) // 2\n",
    "    \n",
    "    \n",
    "solution = Solution()\n",
    "\n",
    "print(solution.sumOfNaturalNumbers(3))\n",
    "print(solution.sumOfNaturalNumbers(5))"
   ]
  },
  {
   "cell_type": "markdown",
   "id": "61572256",
   "metadata": {},
   "source": [
    "***\n",
    "**Question 3**\n",
    "\n",
    "Given a positive integer, N. Find the factorial of N. <br><br>\n",
    "\n",
    "**Example 1:** <br>\n",
    "\n",
    "Input: N = 5 <br>\n",
    "\n",
    "Output: 120 <br><br>\n",
    "\n",
    "**Example 2:** <br>\n",
    "\n",
    "Input: N = 4 <br>\n",
    "\n",
    "Output: 24\n",
    "***"
   ]
  },
  {
   "cell_type": "code",
   "execution_count": 6,
   "id": "9473f4c3",
   "metadata": {},
   "outputs": [
    {
     "name": "stdout",
     "output_type": "stream",
     "text": [
      "120\n",
      "24\n"
     ]
    }
   ],
   "source": [
    "def recur_factorial(n):\n",
    "   if n == 1:\n",
    "       return n\n",
    "   else:\n",
    "       return n*recur_factorial(n-1)\n",
    "    \n",
    "    \n",
    "print(recur_factorial(5))\n",
    "print(recur_factorial(4))"
   ]
  },
  {
   "cell_type": "markdown",
   "id": "72814d54",
   "metadata": {},
   "source": [
    "***\n",
    "**Question 4**\n",
    "\n",
    "Given a number N and a power P, the task is to find the exponent of this number raised to the given power, i.e. N^P. <br><br>\n",
    "\n",
    "**Example 1 :** <br>\n",
    "Input: N = 5, P = 2 <br>\n",
    "Output: 25 <br><br>\n",
    "\n",
    "**Example 2 :** <br>\n",
    "Input: N = 2, P = 5 <br>\n",
    "Output: 32\n",
    "***"
   ]
  },
  {
   "cell_type": "code",
   "execution_count": 7,
   "id": "46a364ef",
   "metadata": {},
   "outputs": [
    {
     "name": "stdout",
     "output_type": "stream",
     "text": [
      "25\n",
      "32\n"
     ]
    }
   ],
   "source": [
    "def power(N, P):\n",
    "    if P == 0:\n",
    "        return 1\n",
    "\n",
    "    return (N*power(N, P-1))\n",
    "\n",
    "\n",
    "print(power(5, 2))\n",
    "print(power(2, 5))"
   ]
  },
  {
   "cell_type": "markdown",
   "id": "75b2972b",
   "metadata": {},
   "source": [
    "***\n",
    "**Question 5**\n",
    "\n",
    "Given an array of integers **arr**, the task is to find maximum element of that array using recursion. <br><br>\n",
    "\n",
    "**Example 1:** <br>\n",
    "Input: arr = {1, 4, 3, -5, -4, 8, 6}; <br>\n",
    "Output: 8 <br><br>\n",
    "\n",
    "**Example 2:** <br>\n",
    "\n",
    "Input: arr = {1, 4, 45, 6, 10, -8}; <br>\n",
    "Output: 45\n",
    "***"
   ]
  },
  {
   "cell_type": "code",
   "execution_count": 14,
   "id": "6de3a30a",
   "metadata": {},
   "outputs": [
    {
     "name": "stdout",
     "output_type": "stream",
     "text": [
      "8\n",
      "45\n"
     ]
    }
   ],
   "source": [
    "def findMaxRec(A):\n",
    "    def findMaxHelper(A, n):\n",
    "        if n == 1:\n",
    "            return A[0]\n",
    "        \n",
    "        return max(A[n - 1], findMaxHelper(A, n - 1))\n",
    "    \n",
    "    return findMaxHelper(A, len(A))\n",
    "\n",
    "print(findMaxRec([1, 4, 3, -5, -4, 8, 6]))\n",
    "print(findMaxRec([1, 4, 45, 6, 10, -8]))"
   ]
  },
  {
   "cell_type": "markdown",
   "id": "e1f99214",
   "metadata": {},
   "source": [
    "***\n",
    "**Question 6** <br>\n",
    "Given first term (a), common difference (d) and a integer N of the Arithmetic Progression series, the task is to find Nth term of the series. <br><br>\n",
    "\n",
    "**Example 1:** <br>\n",
    "Input : a = 2 d = 1 N = 5 <br>\n",
    "Output : 6 <br>\n",
    "The 5th term of the series is : 6 <br><br>\n",
    "\n",
    "**Example 2:** <br>\n",
    "Input : a = 5 d = 2 N = 10 <br>\n",
    "Output : 23 <br>\n",
    "The 10th term of the series is : 23\n",
    "***"
   ]
  },
  {
   "cell_type": "code",
   "execution_count": 15,
   "id": "3105acb9",
   "metadata": {},
   "outputs": [
    {
     "name": "stdout",
     "output_type": "stream",
     "text": [
      "6\n",
      "23\n"
     ]
    }
   ],
   "source": [
    "def findNthTerm(a, d, N):\n",
    "    nth_term = a + (N - 1) * d\n",
    "    return nth_term\n",
    "\n",
    "\n",
    "print(findNthTerm(2, 1, 5))\n",
    "print(findNthTerm(5, 2, 10))"
   ]
  },
  {
   "cell_type": "markdown",
   "id": "b1a950d3",
   "metadata": {},
   "source": [
    "***\n",
    "**Question 7** <br>\n",
    "Given a string S, the task is to write a program to print all permutations of a given string. <br><br>\n",
    "\n",
    "**Example 1:** <br>\n",
    "***Input:*** *S = “ABC”* <br>\n",
    "***Output:*** *“ABC”, “ACB”, “BAC”, “BCA”, “CBA”, “CAB”* <br><br>\n",
    "\n",
    "**Example 2:** <br>\n",
    "***Input:*** *S = “XY”* <br>\n",
    "***Output:*** *“XY”, “YX”*\n",
    "***"
   ]
  },
  {
   "cell_type": "code",
   "execution_count": 20,
   "id": "e123c9ba",
   "metadata": {},
   "outputs": [
    {
     "name": "stdout",
     "output_type": "stream",
     "text": [
      "\"ABC\", \"ACB\", \"BAC\", \"BCA\", \"CAB\", \"CBA\"\n",
      "\"XY\", \"YX\"\n"
     ]
    }
   ],
   "source": [
    "from itertools import permutations\n",
    "\n",
    "\n",
    "def printPermutations(S):\n",
    "    perm_list = list(permutations(S))\n",
    "    perm_str_list = [\"\".join(perm) for perm in perm_list]\n",
    "    perm_str = \", \".join('\"' + perm + '\"' for perm in perm_str_list)\n",
    "    print(perm_str)\n",
    "\n",
    "\n",
    "printPermutations(\"ABC\")\n",
    "printPermutations(\"XY\")"
   ]
  },
  {
   "cell_type": "markdown",
   "id": "9064d5f9",
   "metadata": {},
   "source": [
    "***\n",
    "**Question 8** <br>\n",
    "Given an array, find a product of all array elements. <br><br>\n",
    "\n",
    "**Example 1:** <br>\n",
    "Input  : arr[] = {1, 2, 3, 4, 5} <br>\n",
    "Output : 120 <br><br>\n",
    "\n",
    "**Example 2:** <br>\n",
    "Input  : arr[] = {1, 6, 3} <br>\n",
    "Output : 18 <br>\n",
    "***"
   ]
  },
  {
   "cell_type": "code",
   "execution_count": 21,
   "id": "72bd3592",
   "metadata": {},
   "outputs": [
    {
     "name": "stdout",
     "output_type": "stream",
     "text": [
      "120\n",
      "18\n"
     ]
    }
   ],
   "source": [
    "def productOfArrayElements(arr):\n",
    "    product = 1\n",
    "    for num in arr:\n",
    "        product *= num\n",
    "    return product\n",
    "\n",
    "\n",
    "print(productOfArrayElements([1, 2, 3, 4, 5]))\n",
    "print(productOfArrayElements([1, 6, 3]))"
   ]
  },
  {
   "cell_type": "code",
   "execution_count": null,
   "id": "b3afc94c",
   "metadata": {},
   "outputs": [],
   "source": []
  }
 ],
 "metadata": {
  "kernelspec": {
   "display_name": "Python 3 (ipykernel)",
   "language": "python",
   "name": "python3"
  },
  "language_info": {
   "codemirror_mode": {
    "name": "ipython",
    "version": 3
   },
   "file_extension": ".py",
   "mimetype": "text/x-python",
   "name": "python",
   "nbconvert_exporter": "python",
   "pygments_lexer": "ipython3",
   "version": "3.11.0"
  }
 },
 "nbformat": 4,
 "nbformat_minor": 5
}
