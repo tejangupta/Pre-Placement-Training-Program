{
 "cells": [
  {
   "cell_type": "markdown",
   "id": "76c43676",
   "metadata": {},
   "source": [
    "# Assignment 3"
   ]
  },
  {
   "cell_type": "markdown",
   "id": "d310fc9b",
   "metadata": {},
   "source": [
    "***\n",
    "Question 1 <br><br>\n",
    "Given an integer array nums of length n and an integer target, find three integers\n",
    "in nums such that the sum is closest to the target. <br><br>\n",
    "Return the sum of the three integers. <br><br>\n",
    "You may assume that each input would have exactly one solution. <br><br>\n",
    "Example 1: <br>\n",
    "Input: nums = [-1,2,1,-4], target = 1 <br>\n",
    "Output: 2\n",
    "***"
   ]
  },
  {
   "cell_type": "code",
   "execution_count": 1,
   "id": "6c5ad55d",
   "metadata": {},
   "outputs": [
    {
     "name": "stdout",
     "output_type": "stream",
     "text": [
      "2\n"
     ]
    }
   ],
   "source": [
    "from typing import List\n",
    "\n",
    "\n",
    "class Solution:\n",
    "    def threeSumClosest(self, nums: List[int], target: int) -> int:\n",
    "        nums.sort()\n",
    "        result = nums[0] + nums[1] + nums[2]\n",
    "        for i in range(len(nums) - 2):\n",
    "            if i > 0 and nums[i] == nums[i-1]:    \n",
    "                continue\n",
    "            j, k = i+1, len(nums) - 1\n",
    "            while j < k:\n",
    "                sum = nums[i] + nums[j] + nums[k]\n",
    "                if sum == target:\n",
    "                    return sum\n",
    "                if abs(sum - target) < abs(result - target):\n",
    "                    result = sum\n",
    "                if sum < target:\n",
    "                    j += 1\n",
    "                else:\n",
    "                    k -= 1            \n",
    "        return result\n",
    "    \n",
    "\n",
    "solution = Solution()\n",
    "\n",
    "nums = [-1, 2, 1, -4]\n",
    "target = 1\n",
    "result = solution.threeSumClosest(nums, target)\n",
    "print(result)"
   ]
  },
  {
   "cell_type": "markdown",
   "id": "c4a77582",
   "metadata": {},
   "source": [
    "***\n",
    "Question 2 <br><br>\n",
    "Given an array nums of n integers, return an array of all the unique quadruplets\n",
    "[nums[a], nums[b], nums[c], nums[d]] such that: <br>\n",
    "● 0 <= a, b, c, d < n <br>\n",
    "● a, b, c, and d are distinct. <br>\n",
    "● nums[a] + nums[b] + nums[c] + nums[d] == target <br><br>\n",
    "You may return the answer in any order. <br><br>\n",
    "Example 1: <br>\n",
    "Input: nums = [1,0,-1,0,-2,2], target = 0 <br>\n",
    "Output: [[-2,-1,1,2],[-2,0,0,2],[-1,0,0,1]]\n",
    "***"
   ]
  },
  {
   "cell_type": "code",
   "execution_count": 2,
   "id": "c874cc98",
   "metadata": {},
   "outputs": [
    {
     "name": "stdout",
     "output_type": "stream",
     "text": [
      "[[-2, -1, 1, 2], [-2, 0, 0, 2], [-1, 0, 0, 1]]\n"
     ]
    }
   ],
   "source": [
    "class Solution:\n",
    "    def fourSum(self, nums: List[int], target: int) -> List[List[int]]:\n",
    "        def findNsum(l, r, target, N, result, results):\n",
    "            if r-l+1 < N or N < 2 or target < nums[l]*N or target > nums[r]*N:  \n",
    "                return\n",
    "            if N == 2: \n",
    "                while l < r:\n",
    "                    s = nums[l] + nums[r]\n",
    "                    if s == target:\n",
    "                        results.append(result + [nums[l], nums[r]])\n",
    "                        l += 1\n",
    "                        while l < r and nums[l] == nums[l-1]:\n",
    "                            l += 1\n",
    "                    elif s < target:\n",
    "                        l += 1\n",
    "                    else:\n",
    "                        r -= 1\n",
    "            else: \n",
    "                for i in range(l, r+1):\n",
    "                    if i == l or (i > l and nums[i-1] != nums[i]):\n",
    "                        findNsum(i+1, r, target-nums[i], N-1, result+[nums[i]], results)\n",
    "\n",
    "        nums.sort()\n",
    "        results = []\n",
    "        findNsum(0, len(nums)-1, target, 4, [], results)\n",
    "        return results\n",
    "    \n",
    "    \n",
    "solution = Solution()\n",
    "\n",
    "nums = [1, 0, -1, 0, -2, 2] \n",
    "target = 0\n",
    "result = solution.fourSum(nums, target)\n",
    "print(result)"
   ]
  },
  {
   "cell_type": "markdown",
   "id": "fc336288",
   "metadata": {},
   "source": [
    "***\n",
    "Question 3 <br><br>\n",
    "A permutation of an array of integers is an arrangement of its members into a\n",
    "sequence or linear order. <br><br>\n",
    "● For example, for arr = [1,2,3], the following are all the permutations of arr:\n",
    "[1,2,3], [1,3,2], [2, 1, 3], [2, 3, 1], [3,1,2], [3,2,1]. <br><br>\n",
    "The next permutation of an array of integers is the next lexicographically greater\n",
    "permutation of its integer. More formally, if all the permutations of the array are\n",
    "sorted in one container according to their lexicographical order, then the next\n",
    "permutation of that array is the permutation that follows it in the sorted container.\n",
    "If such an arrangement is not possible, the array must be rearranged as the\n",
    "lowest possible order (i.e., sorted in ascending order). <br><br>\n",
    "● For example, the next permutation of arr = [1,2,3] is [1,3,2]. <br>\n",
    "● Similarly, the next permutation of arr = [2,3,1] is [3,1,2]. <br>\n",
    "● While the next permutation of arr = [3,2,1] is [1,2,3] because [3,2,1] does not\n",
    "have a lexicographical larger rearrangement. <br><br>\n",
    "Given an array of integers nums, find the next permutation of nums.\n",
    "The replacement must be in place and use only constant extra memory. <br><br>\n",
    "Example 1: <br>\n",
    "Input: nums = [1,2,3] <br>\n",
    "Output: [1,3,2]\n",
    "***"
   ]
  },
  {
   "cell_type": "code",
   "execution_count": 3,
   "id": "fea6cbc5",
   "metadata": {},
   "outputs": [
    {
     "name": "stdout",
     "output_type": "stream",
     "text": [
      "[1, 3, 2]\n"
     ]
    }
   ],
   "source": [
    "class Solution:\n",
    "    def nextPermutation(self, nums: List[int]) -> None:\n",
    "        \"\"\"\n",
    "        Do not return anything, modify nums in-place instead.\n",
    "        \"\"\"\n",
    "        i = j = len(nums)-1\n",
    "        while i > 0 and nums[i-1] >= nums[i]:\n",
    "            i -= 1\n",
    "        if i == 0:   \n",
    "            nums.reverse()\n",
    "            return \n",
    "        k = i - 1    \n",
    "        while nums[j] <= nums[k]:\n",
    "            j -= 1\n",
    "        nums[k], nums[j] = nums[j], nums[k]  \n",
    "        l, r = k+1, len(nums)-1  \n",
    "        while l < r:\n",
    "            nums[l], nums[r] = nums[r], nums[l]\n",
    "            l +=1 ; r -= 1\n",
    "            \n",
    "            \n",
    "solution = Solution()\n",
    "\n",
    "nums = [1, 2, 3]\n",
    "solution.nextPermutation(nums)\n",
    "print(nums)"
   ]
  },
  {
   "cell_type": "markdown",
   "id": "9daa01a2",
   "metadata": {},
   "source": [
    "***\n",
    "Question 4 <br><br>\n",
    "Given a sorted array of distinct integers and a target value, return the index if the\n",
    "target is found. If not, return the index where it would be if it were inserted in\n",
    "order. <br><br>\n",
    "You must write an algorithm with O(log n) runtime complexity. <br><br>\n",
    "Example 1: <br>\n",
    "Input: nums = [1,3,5,6], target = 5 <br>\n",
    "Output: 2\n",
    "***"
   ]
  },
  {
   "cell_type": "code",
   "execution_count": 4,
   "id": "8b414cc7",
   "metadata": {},
   "outputs": [
    {
     "name": "stdout",
     "output_type": "stream",
     "text": [
      "2\n"
     ]
    }
   ],
   "source": [
    "class Solution:\n",
    "    def searchInsert(self, nums: List[int], target: int) -> int:\n",
    "        l, r = 0, len(nums) - 1\n",
    "        while l <= r:\n",
    "            mid = l + (r - l) // 2\n",
    "            if nums[mid] >= target: \n",
    "                r = mid - 1\n",
    "            else: \n",
    "                l = mid + 1\n",
    "        return l\n",
    "    \n",
    "    \n",
    "solution = Solution()\n",
    "\n",
    "nums = [1, 3, 5, 6]\n",
    "target = 5 \n",
    "result = solution.searchInsert(nums, target)\n",
    "print(result)"
   ]
  },
  {
   "cell_type": "markdown",
   "id": "7d31b1e8",
   "metadata": {},
   "source": [
    "***\n",
    "Question 5 <br><br>\n",
    "You are given a large integer represented as an integer array digits, where each\n",
    "digits[i] is the ith digit of the integer. The digits are ordered from most significant\n",
    "to least significant in left-to-right order. The large integer does not contain any\n",
    "leading 0's. <br>\n",
    "Increment the large integer by one and return the resulting array of digits. <br><br>\n",
    "Example 1: <br>\n",
    "Input: digits = [1,2,3] <br>\n",
    "Output: [1,2,4]\n",
    "***"
   ]
  },
  {
   "cell_type": "code",
   "execution_count": 5,
   "id": "4cb8ad81",
   "metadata": {},
   "outputs": [
    {
     "name": "stdout",
     "output_type": "stream",
     "text": [
      "[1, 2, 4]\n"
     ]
    }
   ],
   "source": [
    "class Solution:\n",
    "    def plusOne(self, digits: List[int]) -> List[int]:\n",
    "        if digits[-1] == 9:\n",
    "            if len(digits) == 1:  \n",
    "                return [1, 0]\n",
    "            return self.plusOne(digits[:-1]) + [0]\n",
    "        else:\n",
    "            digits[-1] += 1\n",
    "        return digits\n",
    "    \n",
    "\n",
    "solution = Solution()\n",
    "\n",
    "digits = [1, 2, 3]\n",
    "result = solution.plusOne(digits)\n",
    "print(result)"
   ]
  },
  {
   "cell_type": "markdown",
   "id": "2714d3d2",
   "metadata": {},
   "source": [
    "***\n",
    "Question 6 <br><br>\n",
    "Given a non-empty array of integers nums, every element appears twice except\n",
    "for one. Find that single one. <br><br>\n",
    "You must implement a solution with a linear runtime complexity and use only\n",
    "constant extra space. <br><br>\n",
    "Example 1: <br>\n",
    "Input: nums = [2,2,1] <br>\n",
    "Output: 1\n",
    "***"
   ]
  },
  {
   "cell_type": "code",
   "execution_count": 6,
   "id": "da5d85ab",
   "metadata": {},
   "outputs": [
    {
     "name": "stdout",
     "output_type": "stream",
     "text": [
      "1\n"
     ]
    }
   ],
   "source": [
    "class Solution:\n",
    "    def singleNumber(self, nums: List[int]) -> int:\n",
    "        xor = 0\n",
    "        for num in nums:\n",
    "            xor ^= num\n",
    "        \n",
    "        return xor\n",
    "    \n",
    "    \n",
    "solution = Solution()\n",
    "\n",
    "nums = [2, 2, 1]\n",
    "result = solution.singleNumber(nums)\n",
    "print(result)"
   ]
  },
  {
   "cell_type": "markdown",
   "id": "c36eabe1",
   "metadata": {},
   "source": [
    "***\n",
    "Question 7 <br><br>\n",
    "You are given an inclusive range [lower, upper] and a sorted unique integer array\n",
    "nums, where all elements are within the inclusive range. <br>\n",
    "A number x is considered missing if x is in the range [lower, upper] and x is not in\n",
    "nums. <br><br>\n",
    "Return the shortest sorted list of ranges that exactly covers all the missing\n",
    "numbers. That is, no element of nums is included in any of the ranges, and each\n",
    "missing number is covered by one of the ranges. <br><br>\n",
    "Example 1: <br>\n",
    "Input: nums = [0,1,3,50,75], lower = 0, upper = 99 <br>\n",
    "Output: [[2,2],[4,49],[51,74],[76,99]]\n",
    "***"
   ]
  },
  {
   "cell_type": "code",
   "execution_count": 7,
   "id": "d60eb498",
   "metadata": {},
   "outputs": [
    {
     "name": "stdout",
     "output_type": "stream",
     "text": [
      "[[2, 2], [4, 49], [51, 74], [76, 99]]\n"
     ]
    }
   ],
   "source": [
    "class Solution:\n",
    "    def findMissingRanges(self, nums: List[int], lower: int, upper: int) -> List[List[int]]:\n",
    "        def getRange(lo: int, hi: int) -> List[int]:\n",
    "            if lo == hi:\n",
    "                return [lo, hi]  # Return as range [x, x] for single numbers\n",
    "            return [lo, hi]\n",
    "\n",
    "        if not nums:\n",
    "            return [getRange(lower, upper)]\n",
    "\n",
    "        ans = []\n",
    "\n",
    "        if nums[0] > lower:\n",
    "            ans.append(getRange(lower, nums[0] - 1))\n",
    "\n",
    "        for prev, curr in zip(nums, nums[1:]):\n",
    "            if curr > prev + 1:\n",
    "                ans.append(getRange(prev + 1, curr - 1))\n",
    "\n",
    "        if nums[-1] < upper:\n",
    "            ans.append(getRange(nums[-1] + 1, upper))\n",
    "\n",
    "        return ans\n",
    "\n",
    "    \n",
    "solution = Solution()\n",
    "\n",
    "nums = [0, 1, 3, 50, 75]\n",
    "lower = 0\n",
    "upper = 99\n",
    "result = solution.findMissingRanges(nums, lower, upper)\n",
    "print(result)"
   ]
  },
  {
   "cell_type": "markdown",
   "id": "308a416a",
   "metadata": {},
   "source": [
    "***\n",
    "Question 8 <br><br>\n",
    "Given an array of meeting time intervals where intervals[i] = [starti, endi], <br>\n",
    "determine if a person could attend all meetings. <br><br>\n",
    "Example 1: <br>\n",
    "Input: intervals = [[0,30],[5,10],[15,20]] <br>\n",
    "Output: false\n",
    "***"
   ]
  },
  {
   "cell_type": "code",
   "execution_count": 8,
   "id": "7de01a25",
   "metadata": {},
   "outputs": [
    {
     "name": "stdout",
     "output_type": "stream",
     "text": [
      "False\n"
     ]
    }
   ],
   "source": [
    "class Solution:\n",
    "    def canAttendMeetings(self, intervals: List[List[int]]) -> bool:\n",
    "        intervals.sort(key=lambda x: x[0])\n",
    "\n",
    "        for i in range(1, len(intervals)):\n",
    "            if intervals[i][0] < intervals[i-1][1]:\n",
    "                return False  \n",
    "\n",
    "        return True  \n",
    "\n",
    "    \n",
    "solution = Solution()\n",
    "\n",
    "intervals = [[0, 30], [5, 10], [15, 20]]\n",
    "result = solution.canAttendMeetings(intervals)\n",
    "print(result) "
   ]
  },
  {
   "cell_type": "code",
   "execution_count": null,
   "id": "3e21a1d3",
   "metadata": {},
   "outputs": [],
   "source": []
  }
 ],
 "metadata": {
  "kernelspec": {
   "display_name": "Python 3 (ipykernel)",
   "language": "python",
   "name": "python3"
  },
  "language_info": {
   "codemirror_mode": {
    "name": "ipython",
    "version": 3
   },
   "file_extension": ".py",
   "mimetype": "text/x-python",
   "name": "python",
   "nbconvert_exporter": "python",
   "pygments_lexer": "ipython3",
   "version": "3.11.0"
  }
 },
 "nbformat": 4,
 "nbformat_minor": 5
}
