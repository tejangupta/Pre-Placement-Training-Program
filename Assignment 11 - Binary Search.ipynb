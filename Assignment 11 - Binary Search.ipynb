{
 "cells": [
  {
   "cell_type": "markdown",
   "id": "3ad0526e",
   "metadata": {},
   "source": [
    "# Assignment 11"
   ]
  },
  {
   "cell_type": "markdown",
   "id": "67a9f53e",
   "metadata": {},
   "source": [
    "***\n",
    "**Question 1**\n",
    "\n",
    "Given a non-negative integer `x`, return *the square root of* `x` *rounded down to the nearest integer*. The returned integer should be **non-negative** as well.\n",
    "\n",
    "You **must not use** any built-in exponent function or operator.\n",
    "\n",
    "- For example, do not use `pow(x, 0.5)` in c++ or `x ** 0.5` in python.\n",
    "\n",
    "**Example 1:**\n",
    "\n",
    "```\n",
    "Input: x = 4\n",
    "Output: 2\n",
    "Explanation: The square root of 4 is 2, so we return 2.\n",
    "\n",
    "```\n",
    "\n",
    "**Example 2:**\n",
    "\n",
    "```\n",
    "Input: x = 8\n",
    "Output: 2\n",
    "Explanation: The square root of 8 is 2.82842..., and since we round it down to the nearest integer, 2 is returned.\n",
    "```\n",
    "***"
   ]
  },
  {
   "cell_type": "code",
   "execution_count": 1,
   "id": "cdd6d3e7",
   "metadata": {},
   "outputs": [
    {
     "name": "stdout",
     "output_type": "stream",
     "text": [
      "2\n",
      "2\n"
     ]
    }
   ],
   "source": [
    "class Solution:\n",
    "    def mySqrt(self, x: int) -> int:\n",
    "        if x == 0:\n",
    "            return 0\n",
    "        first, last = 1, x\n",
    "        while first <= last:\n",
    "            mid = first + (last - first) // 2\n",
    "            if mid == x // mid:\n",
    "                return mid\n",
    "            elif mid > x // mid:\n",
    "                last = mid - 1\n",
    "            else:\n",
    "                first = mid + 1\n",
    "        return last\n",
    "    \n",
    "    \n",
    "solution = Solution()\n",
    "\n",
    "print(solution.mySqrt(4))\n",
    "print(solution.mySqrt(8))"
   ]
  },
  {
   "cell_type": "markdown",
   "id": "acca77e9",
   "metadata": {},
   "source": [
    "***\n",
    "**Question 2**\n",
    "\n",
    "A peak element is an element that is strictly greater than its neighbors.\n",
    "\n",
    "Given a **0-indexed** integer array `nums`, find a peak element, and return its index. If the array contains multiple peaks, return the index to **any of the peaks**.\n",
    "\n",
    "You may imagine that `nums[-1] = nums[n] = -∞`. In other words, an element is always considered to be strictly greater than a neighbor that is outside the array.\n",
    "\n",
    "You must write an algorithm that runs in `O(log n)` time.\n",
    "\n",
    "**Example 1:**\n",
    "\n",
    "```\n",
    "Input: nums = [1,2,3,1]\n",
    "Output: 2\n",
    "Explanation: 3 is a peak element and your function should return the index number 2.\n",
    "```\n",
    "\n",
    "**Example 2:**\n",
    "\n",
    "```\n",
    "Input: nums = [1,2,1,3,5,6,4]\n",
    "Output: 5\n",
    "Explanation: Your function can return either index number 1 where the peak element is 2, or index number 5 where the peak element is 6.\n",
    "```\n",
    "***"
   ]
  },
  {
   "cell_type": "code",
   "execution_count": 4,
   "id": "3d152fb8",
   "metadata": {},
   "outputs": [
    {
     "name": "stdout",
     "output_type": "stream",
     "text": [
      "2\n",
      "5\n"
     ]
    }
   ],
   "source": [
    "from typing import List\n",
    "\n",
    "\n",
    "class Solution:\n",
    "    def findPeakElement(self, nums: List[int]) -> int:\n",
    "        left = 0\n",
    "        right = len(nums)-1\n",
    "\n",
    "        while left < right:\n",
    "            mid = (left + right) // 2  \n",
    "            if nums[mid] > nums[mid+1] and nums[mid] > nums[mid-1]:\n",
    "                return mid\n",
    "\n",
    "            if nums[mid] < nums[mid+1]:\n",
    "                left = mid+1\n",
    "            else:\n",
    "                right = mid-1\n",
    "\n",
    "        return left\n",
    "\n",
    "    \n",
    "solution = Solution()\n",
    "\n",
    "print(solution.findPeakElement([1, 2, 3, 1]))\n",
    "print(solution.findPeakElement([1, 2, 1, 3, 5, 6, 4]))"
   ]
  },
  {
   "cell_type": "markdown",
   "id": "46290edd",
   "metadata": {},
   "source": [
    "***\n",
    "**Question 3**\n",
    "\n",
    "Given an array `nums` containing `n` distinct numbers in the range `[0, n]`, return *the only number in the range that is missing from the array.*\n",
    "\n",
    "**Example 1:**\n",
    "\n",
    "```\n",
    "Input: nums = [3,0,1]\n",
    "Output: 2\n",
    "Explanation: n = 3 since there are 3 numbers, so all numbers are in the range [0,3]. 2 is the missing number in the range since it does not appear in nums.\n",
    "\n",
    "```\n",
    "\n",
    "**Example 2:**\n",
    "\n",
    "```\n",
    "Input: nums = [0,1]\n",
    "Output: 2\n",
    "Explanation: n = 2 since there are 2 numbers, so all numbers are in the range [0,2]. 2 is the missing number in the range since it does not appear in nums.\n",
    "\n",
    "```\n",
    "\n",
    "**Example 3:**\n",
    "\n",
    "```\n",
    "Input: nums = [9,6,4,2,3,5,7,0,1]\n",
    "Output: 8\n",
    "Explanation: n = 9 since there are 9 numbers, so all numbers are in the range [0,9]. 8 is the missing number in the range since it does not appear in nums.\n",
    "```\n",
    "***"
   ]
  },
  {
   "cell_type": "code",
   "execution_count": 5,
   "id": "86a1f671",
   "metadata": {},
   "outputs": [
    {
     "name": "stdout",
     "output_type": "stream",
     "text": [
      "2\n",
      "2\n",
      "8\n"
     ]
    }
   ],
   "source": [
    "class Solution:\n",
    "    def missingNumber(self, nums: List[int]) -> int:\n",
    "        n = len(nums)\n",
    "        \n",
    "        return n * (n+1) // 2 - sum(nums)\n",
    "    \n",
    "    \n",
    "solution = Solution()\n",
    "\n",
    "print(solution.missingNumber([3, 0, 1]))\n",
    "print(solution.missingNumber([0, 1]))\n",
    "print(solution.missingNumber([9, 6, 4, 2, 3, 5, 7, 0, 1]))"
   ]
  },
  {
   "cell_type": "markdown",
   "id": "d742b121",
   "metadata": {},
   "source": [
    "***\n",
    "**Question 4**\n",
    "\n",
    "Given an array of integers `nums` containing `n + 1` integers where each integer is in the range `[1, n]` inclusive.\n",
    "\n",
    "There is only **one repeated number** in `nums`, return *this repeated number*.\n",
    "\n",
    "You must solve the problem **without** modifying the array `nums` and uses only constant extra space.\n",
    "\n",
    "**Example 1:**\n",
    "\n",
    "```\n",
    "Input: nums = [1,3,4,2,2]\n",
    "Output: 2\n",
    "\n",
    "```\n",
    "\n",
    "**Example 2:**\n",
    "\n",
    "```\n",
    "Input: nums = [3,1,3,4,2]\n",
    "Output: 3\n",
    "```\n",
    "***"
   ]
  },
  {
   "cell_type": "code",
   "execution_count": 6,
   "id": "bd3c49bd",
   "metadata": {},
   "outputs": [
    {
     "name": "stdout",
     "output_type": "stream",
     "text": [
      "2\n",
      "3\n"
     ]
    }
   ],
   "source": [
    "class Solution:\n",
    "    def findDuplicate(self, nums: List[int]) -> int:\n",
    "        slow, fast = nums[0], nums[0]\n",
    "        while True:\n",
    "            slow, fast = nums[slow], nums[nums[fast]]\n",
    "            if slow == fast: break\n",
    "        \n",
    "        slow = nums[0];\n",
    "        while slow != fast:\n",
    "            slow, fast = nums[slow], nums[fast]\n",
    "            \n",
    "        return slow\n",
    "    \n",
    "    \n",
    "solution = Solution()\n",
    "\n",
    "print(solution.findDuplicate([1, 3, 4, 2, 2]))\n",
    "print(solution.findDuplicate([3, 1, 3, 4, 2]))"
   ]
  },
  {
   "cell_type": "markdown",
   "id": "30a4a4d0",
   "metadata": {},
   "source": [
    "***\n",
    "**Question 5**\n",
    "\n",
    "Given two integer arrays `nums1` and `nums2`, return *an array of their intersection*. Each element in the result must be **unique** and you may return the result in **any order**.\n",
    "\n",
    "**Example 1:**\n",
    "\n",
    "```\n",
    "Input: nums1 = [1,2,2,1], nums2 = [2,2]\n",
    "Output: [2]\n",
    "\n",
    "```\n",
    "\n",
    "**Example 2:**\n",
    "\n",
    "```\n",
    "Input: nums1 = [4,9,5], nums2 = [9,4,9,8,4]\n",
    "Output: [9,4]\n",
    "Explanation: [4,9] is also accepted.\n",
    "```\n",
    "***"
   ]
  },
  {
   "cell_type": "code",
   "execution_count": 7,
   "id": "34baf05e",
   "metadata": {},
   "outputs": [
    {
     "name": "stdout",
     "output_type": "stream",
     "text": [
      "[2]\n",
      "[9, 4]\n"
     ]
    }
   ],
   "source": [
    "class Solution:\n",
    "    def intersection(self, nums1: List[int], nums2: List[int]) -> List[int]:\n",
    "        res = []\n",
    "        map = {}\n",
    "        for i in nums1:\n",
    "            map[i] = map[i]+1 if i in map else 1\n",
    "        for j in nums2:\n",
    "            if j in map and map[j] > 0:\n",
    "                res.append(j)\n",
    "                map[j] = 0\n",
    "        \n",
    "        return res\n",
    "    \n",
    "    \n",
    "solution = Solution()\n",
    "\n",
    "print(solution.intersection([1, 2, 2, 1], [2, 2]))\n",
    "print(solution.intersection([4, 9, 5], [9, 4, 9, 8, 4]))"
   ]
  },
  {
   "cell_type": "markdown",
   "id": "a8396c1e",
   "metadata": {},
   "source": [
    "***\n",
    "**Question 6**\n",
    "\n",
    "Suppose an array of length `n` sorted in ascending order is **rotated** between `1` and `n` times. For example, the array `nums = [0,1,2,4,5,6,7]` might become:\n",
    "\n",
    "- `[4,5,6,7,0,1,2]` if it was rotated `4` times.\n",
    "- `[0,1,2,4,5,6,7]` if it was rotated `7` times.\n",
    "\n",
    "Notice that **rotating** an array `[a[0], a[1], a[2], ..., a[n-1]]` 1 time results in the array `[a[n-1], a[0], a[1], a[2], ..., a[n-2]]`.\n",
    "\n",
    "Given the sorted rotated array `nums` of **unique** elements, return *the minimum element of this array*.\n",
    "\n",
    "You must write an algorithm that runs in `O(log n) time.`\n",
    "\n",
    "**Example 1:**\n",
    "\n",
    "```\n",
    "Input: nums = [3,4,5,1,2]\n",
    "Output: 1\n",
    "Explanation: The original array was [1,2,3,4,5] rotated 3 times.\n",
    "\n",
    "```\n",
    "\n",
    "**Example 2:**\n",
    "\n",
    "```\n",
    "Input: nums = [4,5,6,7,0,1,2]\n",
    "Output: 0\n",
    "Explanation: The original array was [0,1,2,4,5,6,7] and it was rotated 4 times.\n",
    "\n",
    "```\n",
    "\n",
    "**Example 3:**\n",
    "\n",
    "```\n",
    "Input: nums = [11,13,15,17]\n",
    "Output: 11\n",
    "Explanation: The original array was [11,13,15,17] and it was rotated 4 times.\n",
    "```\n",
    "***"
   ]
  },
  {
   "cell_type": "code",
   "execution_count": 8,
   "id": "92a26f20",
   "metadata": {},
   "outputs": [
    {
     "name": "stdout",
     "output_type": "stream",
     "text": [
      "1\n",
      "0\n",
      "11\n"
     ]
    }
   ],
   "source": [
    "class Solution:\n",
    "    def findMin(self, nums: List[int]) -> int:\n",
    "        left, right = 0, len(nums)-1\n",
    "                \n",
    "        while left < right:\n",
    "            mid = (left + right) // 2\n",
    "                        \n",
    "            if nums[mid] > nums[right]:\n",
    "                left = mid + 1\n",
    "            else:\n",
    "                right = mid\n",
    "                \n",
    "        return nums[left]\n",
    "        \n",
    "        \n",
    "solution = Solution()\n",
    "\n",
    "print(solution.findMin([3, 4, 5, 1, 2]))\n",
    "print(solution.findMin([4, 5, 6, 7, 0, 1, 2]))\n",
    "print(solution.findMin([11, 13, 15, 17]))"
   ]
  },
  {
   "cell_type": "markdown",
   "id": "a9f38607",
   "metadata": {},
   "source": [
    "***\n",
    "**Question 7**\n",
    "\n",
    "Given an array of integers `nums` sorted in non-decreasing order, find the starting and ending position of a given `target` value.\n",
    "\n",
    "If `target` is not found in the array, return `[-1, -1]`.\n",
    "\n",
    "You must write an algorithm with `O(log n)` runtime complexity.\n",
    "\n",
    "**Example 1:**\n",
    "\n",
    "```\n",
    "Input: nums = [5,7,7,8,8,10], target = 8\n",
    "Output: [3,4]\n",
    "\n",
    "```\n",
    "\n",
    "**Example 2:**\n",
    "\n",
    "```\n",
    "Input: nums = [5,7,7,8,8,10], target = 6\n",
    "Output: [-1,-1]\n",
    "\n",
    "```\n",
    "\n",
    "**Example 3:**\n",
    "\n",
    "```\n",
    "Input: nums = [], target = 0\n",
    "Output: [-1,-1]\n",
    "```\n",
    "***"
   ]
  },
  {
   "cell_type": "code",
   "execution_count": 9,
   "id": "ab34da96",
   "metadata": {},
   "outputs": [
    {
     "name": "stdout",
     "output_type": "stream",
     "text": [
      "[3, 4]\n",
      "[-1, -1]\n",
      "[-1, -1]\n"
     ]
    }
   ],
   "source": [
    "class Solution:\n",
    "    def searchRange(self, nums: List[int], target: int) -> List[int]:\n",
    "        def binarySearchFindPos(nums: List[int], target: int, find_start: bool=True):\n",
    "            low, high, res = 0, len(nums) - 1, -1\n",
    "            while(low <= high):\n",
    "                mid = (low + high) // 2\n",
    "                if nums[mid] == target:\n",
    "                    res = mid\n",
    "                    if find_start:\n",
    "                        high = mid - 1\n",
    "                    else:\n",
    "                        low = mid + 1\n",
    "                elif nums[mid] > target:\n",
    "                    high = mid - 1\n",
    "                elif nums[mid] < target:\n",
    "                    low = mid + 1\n",
    "            return res\n",
    "        \n",
    "        start = binarySearchFindPos(nums, target)\n",
    "        end = binarySearchFindPos(nums, target, False)\n",
    "        \n",
    "        return [start, end]\n",
    "    \n",
    "    \n",
    "solution = Solution()\n",
    "\n",
    "print(solution.searchRange([5, 7, 7, 8, 8, 10], 8))\n",
    "print(solution.searchRange([5, 7, 7, 8, 8, 10], 6))\n",
    "print(solution.searchRange([], 0))"
   ]
  },
  {
   "cell_type": "markdown",
   "id": "bb5c07a4",
   "metadata": {},
   "source": [
    "***\n",
    "**Question 8**\n",
    "\n",
    "Given two integer arrays `nums1` and `nums2`, return *an array of their intersection*. Each element in the result must appear as many times as it shows in both arrays and you may return the result in **any order**.\n",
    "\n",
    "**Example 1:**\n",
    "\n",
    "```\n",
    "Input: nums1 = [1,2,2,1], nums2 = [2,2]\n",
    "Output: [2,2]\n",
    "\n",
    "```\n",
    "\n",
    "**Example 2:**\n",
    "\n",
    "```\n",
    "Input: nums1 = [4,9,5], nums2 = [9,4,9,8,4]\n",
    "Output: [4,9]\n",
    "Explanation: [9,4] is also accepted.\n",
    "```\n",
    "***"
   ]
  },
  {
   "cell_type": "code",
   "execution_count": 12,
   "id": "1a5334e7",
   "metadata": {},
   "outputs": [
    {
     "name": "stdout",
     "output_type": "stream",
     "text": [
      "[2, 2]\n",
      "[9, 4]\n"
     ]
    }
   ],
   "source": [
    "from collections import Counter\n",
    "\n",
    "\n",
    "class Solution:\n",
    "    def intersect(self, nums1: List[int], nums2: List[int]) -> List[int]:\n",
    "        if len(nums1) > len(nums2): return self.intersect(nums2, nums1)\n",
    "            \n",
    "        cnt = Counter(nums1)\n",
    "        ans = []\n",
    "        for x in nums2:\n",
    "            if cnt[x] > 0:\n",
    "                ans.append(x)\n",
    "                cnt[x] -= 1\n",
    "                \n",
    "        return ans\n",
    "    \n",
    "    \n",
    "solution = Solution()\n",
    "\n",
    "print(solution.intersect([1, 2, 2, 1], [2, 2]))\n",
    "print(solution.intersect([4, 9, 5], [9, 4, 9, 8, 4]))"
   ]
  },
  {
   "cell_type": "code",
   "execution_count": null,
   "id": "29b8e00d",
   "metadata": {},
   "outputs": [],
   "source": []
  }
 ],
 "metadata": {
  "kernelspec": {
   "display_name": "Python 3 (ipykernel)",
   "language": "python",
   "name": "python3"
  },
  "language_info": {
   "codemirror_mode": {
    "name": "ipython",
    "version": 3
   },
   "file_extension": ".py",
   "mimetype": "text/x-python",
   "name": "python",
   "nbconvert_exporter": "python",
   "pygments_lexer": "ipython3",
   "version": "3.11.0"
  }
 },
 "nbformat": 4,
 "nbformat_minor": 5
}
