{
 "cells": [
  {
   "cell_type": "markdown",
   "id": "5162bddb",
   "metadata": {},
   "source": [
    "# DSA - Mock Test 1 - Python"
   ]
  },
  {
   "cell_type": "markdown",
   "id": "e76f9385",
   "metadata": {},
   "source": [
    "### Moving Zeros"
   ]
  },
  {
   "cell_type": "code",
   "execution_count": 2,
   "id": "0d029bd4",
   "metadata": {},
   "outputs": [
    {
     "name": "stdout",
     "output_type": "stream",
     "text": [
      "[1, 3, 12, 0, 0]\n"
     ]
    }
   ],
   "source": [
    "from typing import List\n",
    "\n",
    "class Solution:\n",
    "    def moveZeroes(self, nums: List[int]) -> None:\n",
    "        anchor = 0\n",
    "        for explorer in range(len(nums)):\n",
    "            if nums[explorer] != 0:\n",
    "                nums[anchor], nums[explorer] = nums[explorer], nums[anchor]\n",
    "                anchor += 1\n",
    "                \n",
    "                \n",
    "solution = Solution()\n",
    "\n",
    "nums = [0, 1, 0, 3, 12]\n",
    "solution.moveZeroes(nums)\n",
    "print(nums)"
   ]
  },
  {
   "cell_type": "markdown",
   "id": "9aaa9555",
   "metadata": {},
   "source": [
    "### First unique character in a string"
   ]
  },
  {
   "cell_type": "code",
   "execution_count": 3,
   "id": "47684a63",
   "metadata": {},
   "outputs": [
    {
     "name": "stdout",
     "output_type": "stream",
     "text": [
      "0\n",
      "2\n",
      "-1\n"
     ]
    }
   ],
   "source": [
    "def firstUniqChar(s):\n",
    "    char_count = {}\n",
    "    \n",
    "    for char in s:\n",
    "        char_count[char] = char_count.get(char, 0) + 1\n",
    "    \n",
    "    for i in range(len(s)):\n",
    "        if char_count[s[i]] == 1:\n",
    "            return i\n",
    "    \n",
    "    return -1\n",
    "\n",
    "\n",
    "print(firstUniqChar('leetcode'))\n",
    "print(firstUniqChar('loveleetcode'))\n",
    "print(firstUniqChar('aabb'))"
   ]
  },
  {
   "cell_type": "code",
   "execution_count": null,
   "id": "46cc4750",
   "metadata": {},
   "outputs": [],
   "source": []
  }
 ],
 "metadata": {
  "kernelspec": {
   "display_name": "Python 3 (ipykernel)",
   "language": "python",
   "name": "python3"
  },
  "language_info": {
   "codemirror_mode": {
    "name": "ipython",
    "version": 3
   },
   "file_extension": ".py",
   "mimetype": "text/x-python",
   "name": "python",
   "nbconvert_exporter": "python",
   "pygments_lexer": "ipython3",
   "version": "3.11.0"
  }
 },
 "nbformat": 4,
 "nbformat_minor": 5
}
