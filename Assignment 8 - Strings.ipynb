{
 "cells": [
  {
   "cell_type": "markdown",
   "id": "a8ad7031",
   "metadata": {},
   "source": [
    "***\n",
    "**Question 1**\n",
    "\n",
    "Given two strings s1 and s2, return *the lowest **ASCII** sum of deleted characters to make two strings equal*. <br><br>\n",
    "\n",
    "**Example 1:** <br>\n",
    "**Input:** s1 = \"sea\", s2 = \"eat\" <br>\n",
    "**Output:** 231\n",
    "***"
   ]
  },
  {
   "cell_type": "code",
   "execution_count": 1,
   "id": "03d8238a",
   "metadata": {},
   "outputs": [
    {
     "name": "stdout",
     "output_type": "stream",
     "text": [
      "231\n"
     ]
    }
   ],
   "source": [
    "class Solution:\n",
    "    def minimumDeleteSum(self, s1: str, s2: str) -> int:\n",
    "        m, n = len(s1), len(s2)\n",
    "        dp = [[0] * (m + 1) for _ in range(n + 1)]\n",
    "\n",
    "        for i in range(1, m + 1):\n",
    "            for j in range(1, n + 1):\n",
    "                if s1[i - 1] == s2[j - 1]:\n",
    "                    dp[j][i] = dp[j - 1][i - 1] + ord(s1[i - 1])\n",
    "                else:\n",
    "                    dp[j][i] = max(dp[j - 1][i], dp[j][i - 1])\n",
    "        \n",
    "        return sum(map(ord, s1 + s2)) - dp[-1][-1] * 2\n",
    "    \n",
    "    \n",
    "solution = Solution()\n",
    "s1, s2 = 'sea', 'eat'\n",
    "print(solution.minimumDeleteSum(s1, s2))"
   ]
  },
  {
   "cell_type": "markdown",
   "id": "d616cd0d",
   "metadata": {},
   "source": [
    "***\n",
    "**Question 2** <br>\n",
    "Given a string s containing only three types of characters: '(', ')' and '*', return true *if* s *is **valid***.\n",
    "\n",
    "The following rules define a **valid** string:\n",
    "\n",
    "- Any left parenthesis '(' must have a corresponding right parenthesis ')'.\n",
    "- Any right parenthesis ')' must have a corresponding left parenthesis '('.\n",
    "- Left parenthesis '(' must go before the corresponding right parenthesis ')'.\n",
    "- '*' could be treated as a single right parenthesis ')' or a single left parenthesis '(' or an empty string \"\". <br><br>\n",
    "\n",
    "**Example 1:** <br>\n",
    "**Input:** s = \"()\" <br>\n",
    "**Output:** true\n",
    "***"
   ]
  },
  {
   "cell_type": "code",
   "execution_count": 2,
   "id": "e9acc72a",
   "metadata": {},
   "outputs": [
    {
     "name": "stdout",
     "output_type": "stream",
     "text": [
      "True\n"
     ]
    }
   ],
   "source": [
    "class Solution:\n",
    "    def checkValidString(self, s: str) -> bool:\n",
    "        cmin = cmax = 0\n",
    "        for i in s:\n",
    "            cmax = cmax - 1 if i == \")\" else cmax + 1\n",
    "            cmin = cmin + 1 if i == '(' else max(cmin - 1, 0)\n",
    "            if cmax < 0: \n",
    "                return False\n",
    "        return cmin == 0\n",
    "    \n",
    "    \n",
    "solution = Solution()\n",
    "\n",
    "s = '()'\n",
    "print(solution.checkValidString(s))"
   ]
  },
  {
   "cell_type": "markdown",
   "id": "dbfec4b6",
   "metadata": {},
   "source": [
    "***\n",
    "**Question 3**\n",
    "\n",
    "Given two strings word1 and word2, return *the minimum number of **steps** required to make* word1 *and* word2 *the same*.\n",
    "\n",
    "In one **step**, you can delete exactly one character in either string. <br><br>\n",
    "\n",
    "**Example 1:** <br>\n",
    "**Input:** word1 = \"sea\", word2 = \"eat\" <br>\n",
    "**Output:** 2\n",
    "***"
   ]
  },
  {
   "cell_type": "code",
   "execution_count": 6,
   "id": "cf594dc6",
   "metadata": {},
   "outputs": [
    {
     "name": "stdout",
     "output_type": "stream",
     "text": [
      "2\n"
     ]
    }
   ],
   "source": [
    "class Solution:\n",
    "    def minDistance(self, word1: str, word2: str) -> int:\n",
    "        def solve(w1, w2, i, j):\n",
    "            if i == L1 and j == L2: \n",
    "                return 0\n",
    "            if i == L1 or j == L2: \n",
    "                return max(L1 - i, L2 - j)\n",
    "            if w1[i] == w2[j]: \n",
    "                return solve(w1, w2, i + 1, j + 1)                \n",
    "            return 1 + min(solve(w1, w2, i + 1, j), solve(w1, w2, i, j + 1))\n",
    "\n",
    "        L1, L2 = len(word1), len(word2)\n",
    "        return solve(word1, word2, 0, 0)   \n",
    "    \n",
    "    \n",
    "solution = Solution()\n",
    "\n",
    "word1, word2 = 'sea', 'eat'\n",
    "print(solution.minDistance(word1, word2))"
   ]
  },
  {
   "cell_type": "markdown",
   "id": "33926ea4",
   "metadata": {},
   "source": [
    "***\n",
    "**Question 4**\n",
    "\n",
    "You need to construct a binary tree from a string consisting of parenthesis and integers.\n",
    "\n",
    "The whole input represents a binary tree. It contains an integer followed by zero, one or two pairs of parenthesis. The integer represents the root's value and a pair of parenthesis contains a child binary tree with the same structure.\n",
    "You always start to construct the **left** child node of the parent first if it exists. <br><br>\n",
    "\n",
    "**Input:** s = \"4(2(3)(1))(6(5))\" <br>\n",
    "**Output:** [4,2,6,3,1,5]\n",
    "***"
   ]
  },
  {
   "cell_type": "code",
   "execution_count": 43,
   "id": "bba6c54d",
   "metadata": {},
   "outputs": [
    {
     "name": "stdout",
     "output_type": "stream",
     "text": [
      "[4, 2, 3, 1, 6, 5]\n"
     ]
    }
   ],
   "source": [
    "class TreeNode:\n",
    "    def __init__(self, val=0, left=None, right=None):\n",
    "        self.val = val\n",
    "        self.left = left\n",
    "        self.right = right\n",
    "\n",
    "\n",
    "class Solution:\n",
    "    def str2tree(self, s: str) -> TreeNode:\n",
    "        def dfs(s):\n",
    "            if not s:\n",
    "                return None\n",
    "\n",
    "            p = s.find('(')\n",
    "            if p == -1:\n",
    "                return TreeNode(int(s))\n",
    "\n",
    "            root = TreeNode(int(s[:p]))\n",
    "            start = p\n",
    "            cnt = 0\n",
    "\n",
    "            for i in range(p, len(s)):\n",
    "                if s[i] == '(':\n",
    "                    cnt += 1\n",
    "                elif s[i] == ')':\n",
    "                    cnt -= 1\n",
    "                if cnt == 0:\n",
    "                    if start == p:\n",
    "                        root.left = dfs(s[start + 1: i])\n",
    "                        start = i + 1\n",
    "                    else:\n",
    "                        root.right = dfs(s[start + 1: i])\n",
    "            return root\n",
    "\n",
    "        return dfs(s)\n",
    "\n",
    "\n",
    "def get_elements(root):\n",
    "    elements = []\n",
    "\n",
    "    def dfs(node):\n",
    "        if node:\n",
    "            elements.append(node.val)\n",
    "            dfs(node.left)\n",
    "            dfs(node.right)\n",
    "\n",
    "    dfs(root)\n",
    "    return elements\n",
    "\n",
    "\n",
    "solution = Solution()\n",
    "s = \"4(2(3)(1))(6(5))\"\n",
    "tree = solution.str2tree(s)\n",
    "\n",
    "elements = get_elements(tree)\n",
    "print(elements)"
   ]
  },
  {
   "cell_type": "markdown",
   "id": "60c14988",
   "metadata": {},
   "source": [
    "***\n",
    "**Question 5**\n",
    "\n",
    "Given an array of characters chars, compress it using the following algorithm:\n",
    "\n",
    "Begin with an empty string s. For each group of **consecutive repeating characters** in chars:\n",
    "\n",
    "- If the group's length is 1, append the character to s.\n",
    "- Otherwise, append the character followed by the group's length.\n",
    "\n",
    "The compressed string s **should not be returned separately**, but instead, be stored **in the input character array chars**. Note that group lengths that are 10 or longer will be split into multiple characters in chars.\n",
    "\n",
    "After you are done **modifying the input array,** return *the new length of the array*.\n",
    "\n",
    "You must write an algorithm that uses only constant extra space. <br><br>\n",
    "\n",
    "**Example 1:**\n",
    "\n",
    "**Input:** chars = [\"a\",\"a\",\"b\",\"b\",\"c\",\"c\",\"c\"]\n",
    "\n",
    "**Output:** Return 6, and the first 6 characters of the input array should be: [\"a\",\"2\",\"b\",\"2\",\"c\",\"3\"]\n",
    "***"
   ]
  },
  {
   "cell_type": "code",
   "execution_count": 11,
   "id": "83f04179",
   "metadata": {},
   "outputs": [
    {
     "name": "stdout",
     "output_type": "stream",
     "text": [
      "6\n",
      "['a', '2', 'b', '2', 'c', '3']\n"
     ]
    }
   ],
   "source": [
    "from typing import List\n",
    "\n",
    "\n",
    "class Solution:\n",
    "    def compress(self, chars: List[str]) -> int:\n",
    "        walker, runner = 0, 0\n",
    "        while runner < len(chars):\n",
    "            chars[walker] = chars[runner]\n",
    "            count = 1\n",
    "\t\t\t\n",
    "            while runner + 1 < len(chars) and chars[runner] == chars[runner+1]:\n",
    "                runner += 1\n",
    "                count += 1\n",
    "\t\t\t\n",
    "            if count > 1:\n",
    "                for c in str(count):\n",
    "                    chars[walker+1] = c\n",
    "                    walker += 1\n",
    "            \n",
    "            runner += 1\n",
    "            walker += 1\n",
    "        \n",
    "        return walker\n",
    "\n",
    "    \n",
    "solution = Solution()\n",
    "\n",
    "chars = ['a', 'a', 'b', 'b', 'c', 'c', 'c']\n",
    "print(solution.compress(chars))\n",
    "print(chars[:6])"
   ]
  },
  {
   "cell_type": "markdown",
   "id": "038ebe01",
   "metadata": {},
   "source": [
    "***\n",
    "**Question 6**\n",
    "\n",
    "Given two strings s and p, return *an array of all the start indices of* p*'s anagrams in* s. You may return the answer in **any order**.\n",
    "\n",
    "An **Anagram** is a word or phrase formed by rearranging the letters of a different word or phrase, typically using all the original letters exactly once. <br><br>\n",
    "\n",
    "**Example 1:** <br>\n",
    "**Input:** s = \"cbaebabacd\", p = \"abc\" <br>\n",
    "**Output:** [0,6] <br>\n",
    "***"
   ]
  },
  {
   "cell_type": "code",
   "execution_count": 13,
   "id": "2144b503",
   "metadata": {},
   "outputs": [
    {
     "name": "stdout",
     "output_type": "stream",
     "text": [
      "[0, 6]\n"
     ]
    }
   ],
   "source": [
    "from collections import defaultdict\n",
    "\n",
    "\n",
    "class Solution:\n",
    "    def findAnagrams(self, s: str, p: str) -> List[int]:\n",
    "        hm, res, pL, sL = defaultdict(int), [], len(p), len(s)\n",
    "        if pL > sL: \n",
    "            return []\n",
    "\n",
    "        for ch in p: \n",
    "            hm[ch] += 1\n",
    "\n",
    "        for i in range(pL-1):\n",
    "            if s[i] in hm: hm[s[i]] -= 1\n",
    "            \n",
    "        for i in range(-1, sL-pL+1):\n",
    "            if i > -1 and s[i] in hm:\n",
    "                hm[s[i]] += 1\n",
    "            if i+pL < sL and s[i+pL] in hm: \n",
    "                hm[s[i+pL]] -= 1\n",
    "                \n",
    "            if all(v == 0 for v in hm.values()): \n",
    "                res.append(i+1)\n",
    "                \n",
    "        return res\n",
    "    \n",
    "    \n",
    "solution = Solution()\n",
    "\n",
    "s, p = 'cbaebabacd', 'abc'\n",
    "print(solution.findAnagrams(s, p))"
   ]
  },
  {
   "cell_type": "markdown",
   "id": "76e0442a",
   "metadata": {},
   "source": [
    "***\n",
    "**Question 7**\n",
    "\n",
    "Given an encoded string, return its decoded string.\n",
    "\n",
    "The encoding rule is: k[encoded_string], where the encoded_string inside the square brackets is being repeated exactly k times. Note that k is guaranteed to be a positive integer.\n",
    "\n",
    "You may assume that the input string is always valid; there are no extra white spaces, square brackets are well-formed, etc. Furthermore, you may assume that the original data does not contain any digits and that digits are only for those repeat numbers, k. For example, there will not be input like 3a or 2[4].\n",
    "\n",
    "The test cases are generated so that the length of the output will never exceed 105. <br><br>\n",
    "\n",
    "**Example 1:** <br>\n",
    "**Input:** s = \"3[a]2[bc]\" <br>\n",
    "**Output:** \"aaabcbc\"\n",
    "***"
   ]
  },
  {
   "cell_type": "code",
   "execution_count": 14,
   "id": "6c893937",
   "metadata": {},
   "outputs": [
    {
     "name": "stdout",
     "output_type": "stream",
     "text": [
      "aaabcbc\n"
     ]
    }
   ],
   "source": [
    "class Solution:\n",
    "    def decodeString(self, s: str) -> str:\n",
    "        stack = []; curNum = 0; curString = ''\n",
    "        for c in s:\n",
    "            if c == '[':\n",
    "                stack.append(curString)\n",
    "                stack.append(curNum)\n",
    "                curString = ''\n",
    "                curNum = 0\n",
    "            elif c == ']':\n",
    "                num = stack.pop()\n",
    "                prevString = stack.pop()\n",
    "                curString = prevString + num*curString\n",
    "            elif c.isdigit():\n",
    "                curNum = curNum*10 + int(c)\n",
    "            else:\n",
    "                curString += c\n",
    "        return curString\n",
    "    \n",
    "    \n",
    "solution = Solution()\n",
    "\n",
    "s = '3[a]2[bc]'\n",
    "print(solution.decodeString(s))"
   ]
  },
  {
   "cell_type": "markdown",
   "id": "e24eec14",
   "metadata": {},
   "source": [
    "***\n",
    "**Question 8**\n",
    "\n",
    "Given two strings s and goal, return true *if you can swap two letters in* s *so the result is equal to* goal*, otherwise, return* false*.*\n",
    "\n",
    "Swapping letters is defined as taking two indices i and j (0-indexed) such that i != j and swapping the characters at s[i] and s[j].\n",
    "\n",
    "- For example, swapping at indices 0 and 2 in \"abcd\" results in \"cbad\". <br><br>\n",
    "\n",
    "**Example 1:** <br>\n",
    "**Input:** s = \"ab\", goal = \"ba\" <br>\n",
    "**Output:** true\n",
    "***"
   ]
  },
  {
   "cell_type": "code",
   "execution_count": 15,
   "id": "2e68daaf",
   "metadata": {},
   "outputs": [
    {
     "name": "stdout",
     "output_type": "stream",
     "text": [
      "True\n"
     ]
    }
   ],
   "source": [
    "class Solution:\n",
    "    def buddyStrings(self, s: str, goal: str) -> bool:\n",
    "        if len(s) != len(goal): \n",
    "            return False\n",
    "\n",
    "        if s == goal and len(set(s)) < len(s): \n",
    "            return True\n",
    "\n",
    "        dif = [(a, b) for a, b in zip(s, goal) if a != b]\n",
    "\n",
    "        return len(dif) == 2 and dif[0] == dif[1][::-1]\n",
    "    \n",
    "    \n",
    "solution = Solution()\n",
    "\n",
    "s, goal = 'ab', 'ba'\n",
    "print(solution.buddyStrings(s, goal))"
   ]
  },
  {
   "cell_type": "code",
   "execution_count": null,
   "id": "e7a406e6",
   "metadata": {},
   "outputs": [],
   "source": []
  }
 ],
 "metadata": {
  "kernelspec": {
   "display_name": "Python 3 (ipykernel)",
   "language": "python",
   "name": "python3"
  },
  "language_info": {
   "codemirror_mode": {
    "name": "ipython",
    "version": 3
   },
   "file_extension": ".py",
   "mimetype": "text/x-python",
   "name": "python",
   "nbconvert_exporter": "python",
   "pygments_lexer": "ipython3",
   "version": "3.11.0"
  }
 },
 "nbformat": 4,
 "nbformat_minor": 5
}
